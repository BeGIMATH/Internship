{
 "cells": [
  {
   "cell_type": "code",
   "execution_count": 1,
   "metadata": {},
   "outputs": [],
   "source": [
    "from openalea.mtg.mtg import *\n",
    "from openalea.mtg.algo import ancestors\n",
    "from openalea.mtg.io import *\n",
    "from openalea.mtg.traversal import *\n",
    "from scipy.stats import poisson, binom\n",
    "import os\n",
    "import timeit\n",
    "import sys\n",
    "from oawidgets.mtg import *\n",
    "from oawidgets.plantgl import PlantGL\n",
    "from openalea.mtg.draw import *\n",
    "import sys\n",
    "\n",
    "sys.path.append(\"../../Task_2/src/\")\n",
    "\n",
    "from algo_bench import *\n",
    "from algo_distributed_mpi import *\n",
    "from oawidgets.mtg import plot\n",
    "from oawidgets.plantgl import PlantGL\n",
    "from IPython.display import HTML\n",
    "from IPython.display import IFrame"
   ]
  },
  {
   "cell_type": "code",
   "execution_count": 2,
   "metadata": {},
   "outputs": [],
   "source": [
    "from ipyparallel import Client\n",
    "clients = Client()\n"
   ]
  },
  {
   "cell_type": "code",
   "execution_count": 3,
   "metadata": {},
   "outputs": [],
   "source": [
    "\n",
    "from mpi4py import MPI\n"
   ]
  },
  {
   "cell_type": "code",
   "execution_count": 4,
   "metadata": {},
   "outputs": [
    {
     "data": {
      "text/plain": [
       "10000"
      ]
     },
     "execution_count": 4,
     "metadata": {},
     "output_type": "execute_result"
    }
   ],
   "source": [
    "\n",
    "test_mtg = MTG()#'../data/noylum2.mtg')\n",
    "dist = poisson(1., loc=1).rvs\n",
    "\n",
    "vid = test_mtg.add_component(test_mtg.root)\n",
    "\n",
    "random_tree(test_mtg,vid,nb_children=dist,nb_vertices=9999)"
   ]
  },
  {
   "cell_type": "code",
   "execution_count": 5,
   "metadata": {},
   "outputs": [
    {
     "name": "stdout",
     "output_type": "stream",
     "text": [
      "Time it take for MPI  0.035631211  using algorithm  Best_Fit_Clustering_Paper direction  bottom_up\n",
      "Time it take for MPI  0.02651217200000011  using algorithm  Best_Fit_Clustering_Paper direction  top_down\n",
      "Time it take for MPI  0.03637797400000009  using algorithm  Best_Fit_Clustering_Queue direction  bottom_up\n",
      "Time it take for MPI  0.03335364700000021  using algorithm  Best_Fit_Clustering_Queue direction  top_down\n",
      "Time it take for MPI  0.05431450900000012  using algorithm  First_Fit_Clustering_Paper direction  bottom_up\n",
      "Time it take for MPI  0.02612191100000061  using algorithm  First_Fit_Clustering_Paper direction  top_down\n",
      "Time it take for MPI  0.036162025999999514  using algorithm  Best_Fit_Clustering_Queue_1 direction  bottom_up\n",
      "Time it take for MPI  0.04196716000000045  using algorithm  Best_Fit_Clustering_Queue_1 direction  top_down\n",
      "Time it take for MPI  0.035043589999999014  using algorithm  Best_Fit_Clustering_level_order direction  bottom_up\n",
      "Time it take for MPI  0.05863467400000033  using algorithm  Best_Fit_Clustering_level_order direction  top_down\n"
     ]
    }
   ],
   "source": [
    "algos = [Best_Fit_Clustering_Paper,Best_Fit_Clustering_Queue,First_Fit_Clustering_Paper,Best_Fit_Clustering_Queue_1,Best_Fit_Clustering_level_order]\n",
    "for algo in algos:\n",
    "    distributed_tree_traversal(test_mtg,algo,\"bottom_up\")\n",
    "    distributed_tree_traversal(test_mtg,algo,\"top_down\")\n",
    "  "
   ]
  },
  {
   "cell_type": "code",
   "execution_count": null,
   "metadata": {},
   "outputs": [],
   "source": [
    "start_time = timeit.default_timer()\n",
    "distributed_tree_traversal(test_mtg,Best_Fit_Clustering_Paper,\"top_down\")\n",
    "end_time = timeit.default_timer()\n",
    "print(\"Time for top_down: \",end_time - start_time,\" seconds\")\n",
    "start_time = timeit.default_timer()\n",
    "distributed_tree_traversal(test_mtg,Best_Fit_Clustering_Paper,\"bottom_up\")\n",
    "end_time = timeit.default_timer()\n",
    "print(\"Time for bottom up: \",end_time - start_time,\" seconds\")\n",
    "IFrame(src='../data/plots/Best_Fit_Clustering_Paper_dependecy.html', width=1000, height=500)"
   ]
  },
  {
   "cell_type": "code",
   "execution_count": null,
   "metadata": {},
   "outputs": [],
   "source": [
    "start_time = timeit.default_timer()\n",
    "distributed_tree_traversal(test_mtg,Best_Fit_Clustering_Queue,\"Top_down\")\n",
    "end_time = timeit.default_timer()\n",
    "print(\"Time: \",end_time - start_time,\" seconds\")\n",
    "start_time = timeit.default_timer()\n",
    "distributed_tree_traversal(test_mtg,Best_Fit_Clustering_Queue,\"bottom_up\")\n",
    "end_time = timeit.default_timer()\n",
    "print(\"Time: \",end_time - start_time,\" seconds\")\n",
    "IFrame(src='../data/plots/Best_Fit_Clustering_Queue_dependecy.html', width=1000, height=500)"
   ]
  },
  {
   "cell_type": "code",
   "execution_count": null,
   "metadata": {},
   "outputs": [],
   "source": [
    "start_time = timeit.default_timer()\n",
    "distributed_tree_traversal(test_mtg,First_Fit_Clustering_Paper,\"top_down\")\n",
    "end_time = timeit.default_timer()\n",
    "print(\"Time: \",end_time - start_time,\" seconds\")\n",
    "start_time = timeit.default_timer()\n",
    "distributed_tree_traversal(test_mtg,First_Fit_Clustering_Paper,\"bottom_up\")\n",
    "end_time = timeit.default_timer()\n",
    "print(\"Time: \",end_time - start_time,\" seconds\")\n",
    "IFrame(src='../data/plots/First_Fit_Clustering_Paper_dependecy.html', width=1000, height=500)"
   ]
  },
  {
   "cell_type": "code",
   "execution_count": null,
   "metadata": {},
   "outputs": [],
   "source": [
    "start_time = timeit.default_timer()\n",
    "distributed_tree_traversal(test_mtg,Best_Fit_Clustering_Queue_1,\"top_down\")\n",
    "end_time = timeit.default_timer()\n",
    "print(\"Time: \",end_time - start_time,\" seconds\")\n",
    "start_time = timeit.default_timer()\n",
    "distributed_tree_traversal(test_mtg,Best_Fit_Clustering_Queue_1,\"bottom_up\")\n",
    "end_time = timeit.default_timer()\n",
    "print(\"Time: \",end_time - start_time,\" seconds\")\n",
    "IFrame(src='../data/plots/Best_Fit_Clustering_Queue_1_dependecy.html', width=1000, height=500)"
   ]
  },
  {
   "cell_type": "code",
   "execution_count": null,
   "metadata": {},
   "outputs": [],
   "source": [
    "start_time = timeit.default_timer()\n",
    "distributed_tree_traversal(test_mtg,Best_Fit_Clustering_level_order,\"top_down\")\n",
    "end_time = timeit.default_timer()\n",
    "print(\"Time: \",end_time - start_time,\" seconds\")\n",
    "start_time = timeit.default_timer()\n",
    "distributed_tree_traversal(test_mtg,Best_Fit_Clustering_level_order,\"bottom_up\")\n",
    "end_time = timeit.default_timer()\n",
    "print(\"Time: \",end_time - start_time,\" seconds\")"
   ]
  },
  {
   "cell_type": "code",
   "execution_count": null,
   "metadata": {},
   "outputs": [],
   "source": [
    "\n",
    "IFrame(src='../data/plots/Best_Fit_Clustering_level_order_dependecy.html', width=1000, height=500)"
   ]
  }
 ],
 "metadata": {
  "kernelspec": {
   "display_name": "Python 3",
   "language": "python",
   "name": "python3"
  },
  "language_info": {
   "codemirror_mode": {
    "name": "ipython",
    "version": 3
   },
   "file_extension": ".py",
   "mimetype": "text/x-python",
   "name": "python",
   "nbconvert_exporter": "python",
   "pygments_lexer": "ipython3",
   "version": "3.7.7"
  }
 },
 "nbformat": 4,
 "nbformat_minor": 4
}
