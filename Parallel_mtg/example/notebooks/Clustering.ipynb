{
 "cells": [
  {
   "cell_type": "markdown",
   "metadata": {},
   "source": [
    "# Algorithms for MTG clustering"
   ]
  },
  {
   "cell_type": "markdown",
   "metadata": {},
   "source": [
    "<i> Clustering </i> is called the partitioning of a tree data staructures into disjoint subsets, these subsets are called <i> clusters </i>.\n",
    "\n",
    "On this tutorial we will see some examples how to partition MTG-s into clusters, how to plot their dependecies and compute the longes path on the dependency.\n",
    "\n",
    "First of all we need to do some imports"
   ]
  },
  {
   "cell_type": "code",
   "execution_count": 1,
   "metadata": {},
   "outputs": [],
   "source": [
    "#Import the main parallel_mtg module with all its functions\n",
    "from openalea.parallel_mtg.tools import *\n",
    "from openalea.parallel_mtg.algo_clustering import *\n",
    "from openalea.parallel_mtg.cluster_plot import *\n",
    "#Import everything from openalea.mtg, needed to create an mtg and methods like add_component\n",
    "from openalea.mtg import *\n",
    "#Import poisson distribution to create the random tree\n",
    "from scipy.stats import poisson\n",
    "#Import timeit to compute the time of creating clusters\n",
    "import timeit"
   ]
  },
  {
   "cell_type": "markdown",
   "metadata": {},
   "source": [
    "Next we want to create a tree of size $1000$n.\n"
   ]
  },
  {
   "cell_type": "code",
   "execution_count": 2,
   "metadata": {},
   "outputs": [],
   "source": [
    "#Create an empty MTG\n",
    "my_mtg = MTG()\n",
    "#creating a set of random numbers\n",
    "dist = poisson(1., loc=1).rvs    \n",
    "#Adding a component \n",
    "vid = my_mtg.add_component(my_mtg.root)\n",
    "#Create a random tree with root vid\n",
    "random_tree(my_mtg,vid,nb_children=dist,nb_vertices=999)\n",
    "#nb of clusters\n",
    "p = 10"
   ]
  },
  {
   "cell_type": "markdown",
   "metadata": {},
   "source": [
    "To find the clusters we can use one of the following algorithms:\n",
    "<ul>\n",
    "    <li> Best_Fit_Clustering </li>\n",
    "    <li> First_Fit_Clustering </li>\n",
    "    <li> Best_Fit_post_order </li>\n",
    "    <li> Best_Fit_level_order </li>\n",
    "</ul>\n",
    "\n",
    "Each algorithm gives different clusters, we will plot all the clusters for each particular  case. This algorithm do not return anything they just write the cluster id-s to each node inside the MTG dictionary. Inside the same datastructure are also written the subtrees which are mapped to clusters. Before running the algorithm a method <i> clean </i> is called to remove what was created before from any of the above algorithms. A <i> dependecy</i> is created between clusters if the child node of a cluster belongs to another cluster where the hierarchy parent-child is inherited from the initial tree data structure. Dependencies are important when creating clusters since they represent the sequencialism of our distributed data structure. For each algorithm the dependency graph is ploted, to measure the quality of clutering the longest path in the dependecy graph is used. Higher this number worse the result.\n"
   ]
  },
  {
   "cell_type": "code",
   "execution_count": 3,
   "metadata": {},
   "outputs": [
    {
     "data": {
      "text/html": [
       "\n",
       "        <iframe\n",
       "            width=\"900px\"\n",
       "            height=\"800px\"\n",
       "            src=\"mtg.html\"\n",
       "            frameborder=\"0\"\n",
       "            allowfullscreen\n",
       "        ></iframe>\n",
       "        "
      ],
      "text/plain": [
       "<IPython.lib.display.IFrame at 0x7f00d9a57fd0>"
      ]
     },
     "execution_count": 3,
     "metadata": {},
     "output_type": "execute_result"
    }
   ],
   "source": [
    "plot(my_mtg)"
   ]
  },
  {
   "cell_type": "markdown",
   "metadata": {},
   "source": [
    "Now that's cluster these tree into $10$ clusters by using $4$ different clustering algorithms and plot the results. For each algorithm we show the running time, the dependecy plot and the longes path."
   ]
  },
  {
   "cell_type": "code",
   "execution_count": 4,
   "metadata": {},
   "outputs": [
    {
     "name": "stdout",
     "output_type": "stream",
     "text": [
      "Time it took to cluster the MTG 0.04902281900012895\n"
     ]
    },
    {
     "data": {
      "text/html": [
       "\n",
       "        <iframe\n",
       "            width=\"900px\"\n",
       "            height=\"800px\"\n",
       "            src=\"mtg.html\"\n",
       "            frameborder=\"0\"\n",
       "            allowfullscreen\n",
       "        ></iframe>\n",
       "        "
      ],
      "text/plain": [
       "<IPython.lib.display.IFrame at 0x7f00d9b46390>"
      ]
     },
     "execution_count": 4,
     "metadata": {},
     "output_type": "execute_result"
    }
   ],
   "source": [
    "clean(my_mtg)\n",
    "t1 = timeit.default_timer()\n",
    "Best_Fit_Clustering(my_mtg,10,0.4)\n",
    "t2 = timeit.default_timer()\n",
    "print(\"Time it took to cluster the MTG\",t2-t1)\n",
    "plot_clusters(my_mtg,nb_cluster=10)"
   ]
  },
  {
   "cell_type": "code",
   "execution_count": 5,
   "metadata": {},
   "outputs": [
    {
     "name": "stdout",
     "output_type": "stream",
     "text": [
      "5\n"
     ]
    },
    {
     "data": {
      "text/html": [
       "\n",
       "        <iframe\n",
       "            width=\"900px\"\n",
       "            height=\"800px\"\n",
       "            src=\"mtg.html\"\n",
       "            frameborder=\"0\"\n",
       "            allowfullscreen\n",
       "        ></iframe>\n",
       "        "
      ],
      "text/plain": [
       "<IPython.lib.display.IFrame at 0x7f00d9b12410>"
      ]
     },
     "execution_count": 5,
     "metadata": {},
     "output_type": "execute_result"
    }
   ],
   "source": [
    "#Compute the longes path from cluster dependecy graph\n",
    "print(longest_path(my_mtg,10))\n",
    "#Plot the dependecies\n",
    "plot_clusters_dependency(my_mtg,nb_cluster=10)"
   ]
  },
  {
   "cell_type": "code",
   "execution_count": 6,
   "metadata": {},
   "outputs": [
    {
     "name": "stdout",
     "output_type": "stream",
     "text": [
      "Time it took to cluster the MTG 0.01154907300042396\n"
     ]
    },
    {
     "data": {
      "text/html": [
       "\n",
       "        <iframe\n",
       "            width=\"900px\"\n",
       "            height=\"800px\"\n",
       "            src=\"mtg.html\"\n",
       "            frameborder=\"0\"\n",
       "            allowfullscreen\n",
       "        ></iframe>\n",
       "        "
      ],
      "text/plain": [
       "<IPython.lib.display.IFrame at 0x7f00d9affb50>"
      ]
     },
     "execution_count": 6,
     "metadata": {},
     "output_type": "execute_result"
    }
   ],
   "source": [
    "clean(my_mtg)\n",
    "t1 = timeit.default_timer()\n",
    "First_Fit_Clustering(my_mtg,10)\n",
    "t2 = timeit.default_timer()\n",
    "print(\"Time it took to cluster the MTG\",t2-t1)\n",
    "plot_clusters(my_mtg,nb_cluster=10)"
   ]
  },
  {
   "cell_type": "code",
   "execution_count": 7,
   "metadata": {},
   "outputs": [
    {
     "name": "stdout",
     "output_type": "stream",
     "text": [
      "9\n"
     ]
    },
    {
     "data": {
      "text/html": [
       "\n",
       "        <iframe\n",
       "            width=\"900px\"\n",
       "            height=\"800px\"\n",
       "            src=\"mtg.html\"\n",
       "            frameborder=\"0\"\n",
       "            allowfullscreen\n",
       "        ></iframe>\n",
       "        "
      ],
      "text/plain": [
       "<IPython.lib.display.IFrame at 0x7f00d9ad6150>"
      ]
     },
     "execution_count": 7,
     "metadata": {},
     "output_type": "execute_result"
    }
   ],
   "source": [
    "#Compute the longes path from cluster dependecy graph\n",
    "print(longest_path(my_mtg,10))\n",
    "#Plot the dependecies\n",
    "plot_clusters_dependency(my_mtg,nb_cluster=10)"
   ]
  },
  {
   "cell_type": "code",
   "execution_count": 8,
   "metadata": {},
   "outputs": [
    {
     "name": "stdout",
     "output_type": "stream",
     "text": [
      "Time it took to cluster the MTG 0.011237639000682975\n"
     ]
    },
    {
     "data": {
      "text/html": [
       "\n",
       "        <iframe\n",
       "            width=\"900px\"\n",
       "            height=\"800px\"\n",
       "            src=\"mtg.html\"\n",
       "            frameborder=\"0\"\n",
       "            allowfullscreen\n",
       "        ></iframe>\n",
       "        "
      ],
      "text/plain": [
       "<IPython.lib.display.IFrame at 0x7f00d9b0b250>"
      ]
     },
     "execution_count": 8,
     "metadata": {},
     "output_type": "execute_result"
    }
   ],
   "source": [
    "clean(my_mtg)\n",
    "t1 = timeit.default_timer()\n",
    "Best_Fit_Clustering_post_order(my_mtg,10,0.4)\n",
    "t2 = timeit.default_timer()\n",
    "print(\"Time it took to cluster the MTG\",t2-t1)\n",
    "plot_clusters(my_mtg,nb_cluster=10)"
   ]
  },
  {
   "cell_type": "code",
   "execution_count": 9,
   "metadata": {},
   "outputs": [
    {
     "name": "stdout",
     "output_type": "stream",
     "text": [
      "3\n"
     ]
    },
    {
     "data": {
      "text/html": [
       "\n",
       "        <iframe\n",
       "            width=\"900px\"\n",
       "            height=\"800px\"\n",
       "            src=\"mtg.html\"\n",
       "            frameborder=\"0\"\n",
       "            allowfullscreen\n",
       "        ></iframe>\n",
       "        "
      ],
      "text/plain": [
       "<IPython.lib.display.IFrame at 0x7f00d9b0b510>"
      ]
     },
     "execution_count": 9,
     "metadata": {},
     "output_type": "execute_result"
    }
   ],
   "source": [
    "#Compute the longes path from cluster dependecy graph\n",
    "print(longest_path(my_mtg,10))\n",
    "#Plot the dependecies\n",
    "plot_clusters_dependency(my_mtg,nb_cluster=10)"
   ]
  },
  {
   "cell_type": "code",
   "execution_count": 10,
   "metadata": {},
   "outputs": [
    {
     "name": "stdout",
     "output_type": "stream",
     "text": [
      "Time it took to cluster the MTG 0.0052046290002181195\n"
     ]
    },
    {
     "data": {
      "text/html": [
       "\n",
       "        <iframe\n",
       "            width=\"900px\"\n",
       "            height=\"800px\"\n",
       "            src=\"mtg.html\"\n",
       "            frameborder=\"0\"\n",
       "            allowfullscreen\n",
       "        ></iframe>\n",
       "        "
      ],
      "text/plain": [
       "<IPython.lib.display.IFrame at 0x7f00d9af80d0>"
      ]
     },
     "execution_count": 10,
     "metadata": {},
     "output_type": "execute_result"
    }
   ],
   "source": [
    "clean(my_mtg)\n",
    "t1 = timeit.default_timer()\n",
    "Best_Fit_Clustering_level_order(my_mtg,10,0.4)\n",
    "t2 = timeit.default_timer()\n",
    "print(\"Time it took to cluster the MTG\",t2-t1)\n",
    "plot_clusters(my_mtg,nb_cluster=10)"
   ]
  },
  {
   "cell_type": "code",
   "execution_count": 11,
   "metadata": {},
   "outputs": [
    {
     "name": "stdout",
     "output_type": "stream",
     "text": [
      "2\n"
     ]
    },
    {
     "data": {
      "text/html": [
       "\n",
       "        <iframe\n",
       "            width=\"900px\"\n",
       "            height=\"800px\"\n",
       "            src=\"mtg.html\"\n",
       "            frameborder=\"0\"\n",
       "            allowfullscreen\n",
       "        ></iframe>\n",
       "        "
      ],
      "text/plain": [
       "<IPython.lib.display.IFrame at 0x7f00d9af83d0>"
      ]
     },
     "execution_count": 11,
     "metadata": {},
     "output_type": "execute_result"
    }
   ],
   "source": [
    "#Compute the longes path from cluster dependecy graph\n",
    "print(longest_path(my_mtg,10))\n",
    "#Plot the dependecies\n",
    "plot_clusters_dependency(my_mtg,nb_cluster=10)"
   ]
  }
 ],
 "metadata": {
  "kernelspec": {
   "display_name": "Python 3",
   "language": "python",
   "name": "python3"
  },
  "language_info": {
   "codemirror_mode": {
    "name": "ipython",
    "version": 3
   },
   "file_extension": ".py",
   "mimetype": "text/x-python",
   "name": "python",
   "nbconvert_exporter": "python",
   "pygments_lexer": "ipython3",
   "version": "3.7.7"
  }
 },
 "nbformat": 4,
 "nbformat_minor": 4
}
