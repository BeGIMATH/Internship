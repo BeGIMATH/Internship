{
 "cells": [
  {
   "cell_type": "code",
   "execution_count": 13,
   "metadata": {},
   "outputs": [],
   "source": [
    "from openalea.mtg.mtg import *\n",
    "from openalea.mtg.algo import ancestors\n",
    "from openalea.mtg.io import *\n",
    "from openalea.mtg.traversal import *\n",
    "from scipy.stats import poisson, binom\n",
    "import os\n",
    "import timeit\n",
    "import sys\n",
    "from oawidgets.mtg import *\n",
    "from oawidgets.plantgl import PlantGL\n",
    "from openalea.mtg.draw import *\n",
    "import sys\n",
    "\n",
    "sys.path.append(\"../../Task_2/src/\")\n",
    "\n",
    "from algo_clustering import *\n",
    "from algo_distributed_mpi import *\n",
    "from oawidgets.mtg import plot\n",
    "from oawidgets.plantgl import PlantGL\n",
    "from IPython.display import HTML\n",
    "from IPython.display import IFrame"
   ]
  },
  {
   "cell_type": "code",
   "execution_count": 15,
   "metadata": {},
   "outputs": [
    {
     "name": "stdout",
     "output_type": "stream",
     "text": [
      "[stdout:0] 4\n",
      "[stdout:1] 4\n",
      "[stdout:2] 4\n",
      "[stdout:3] 4\n"
     ]
    }
   ],
   "source": [
    "\n",
    "%%px\n",
    "from mpi4py import MPI\n",
    "print(MPI.COMM_WORLD.size)"
   ]
  },
  {
   "cell_type": "code",
   "execution_count": 16,
   "metadata": {},
   "outputs": [],
   "source": [
    "from ipyparallel import Client\n",
    "clients = Client()"
   ]
  },
  {
   "cell_type": "code",
   "execution_count": 17,
   "metadata": {},
   "outputs": [
    {
     "name": "stdout",
     "output_type": "stream",
     "text": [
      "Partitoning finished for  Best_Fit_Clustering  is 0.0015099048614501953\n",
      "---------------------------------------------------------------\n"
     ]
    },
    {
     "ename": "Exception",
     "evalue": "Invalid rank, error stack:\nPMPI_Irecv(156): MPI_Irecv(buf=0x5647ae99a590, count=32768, MPI_BYTE, src=3, tag=34, MPI_COMM_WORLD, request=0x7effa06072e0) failed\nPMPI_Irecv(99).: Invalid rank has value 3 but must be nonnegative and less than 1",
     "output_type": "error",
     "traceback": [
      "\u001b[0;31m---------------------------------------------------------------------------\u001b[0m",
      "\u001b[0;31mException\u001b[0m                                 Traceback (most recent call last)",
      "\u001b[0;32m<ipython-input-17-70f05d5c3bed>\u001b[0m in \u001b[0;36m<module>\u001b[0;34m\u001b[0m\n\u001b[1;32m     76\u001b[0m \u001b[0;34m\u001b[0m\u001b[0m\n\u001b[1;32m     77\u001b[0m \u001b[0;34m\u001b[0m\u001b[0m\n\u001b[0;32m---> 78\u001b[0;31m             \u001b[0mdistributed_tree_traversal_bottom_up\u001b[0m\u001b[0;34m(\u001b[0m\u001b[0mmy_mtg\u001b[0m\u001b[0;34m,\u001b[0m\u001b[0malgo\u001b[0m\u001b[0;34m,\u001b[0m\u001b[0mj\u001b[0m\u001b[0;34m,\u001b[0m\u001b[0mf_unc\u001b[0m\u001b[0;34m,\u001b[0m\u001b[0mi\u001b[0m\u001b[0;34m,\u001b[0m\u001b[0mnb_tries\u001b[0m\u001b[0;34m)\u001b[0m\u001b[0;34m\u001b[0m\u001b[0;34m\u001b[0m\u001b[0m\n\u001b[0m\u001b[1;32m     79\u001b[0m             \u001b[0mdistributed_tree_traversal_top_down\u001b[0m\u001b[0;34m(\u001b[0m\u001b[0mmy_mtg\u001b[0m\u001b[0;34m,\u001b[0m\u001b[0malgo\u001b[0m\u001b[0;34m,\u001b[0m\u001b[0mj\u001b[0m\u001b[0;34m,\u001b[0m\u001b[0mf_unc\u001b[0m\u001b[0;34m,\u001b[0m\u001b[0mi\u001b[0m\u001b[0;34m,\u001b[0m\u001b[0mnb_tries\u001b[0m\u001b[0;34m)\u001b[0m\u001b[0;34m\u001b[0m\u001b[0;34m\u001b[0m\u001b[0m\n\u001b[1;32m     80\u001b[0m \u001b[0;34m\u001b[0m\u001b[0m\n",
      "\u001b[0;32m~/Desktop/Thesis_Project/Internship/Task_2/src/algo_distributed_mpi.py\u001b[0m in \u001b[0;36mdistributed_tree_traversal_bottom_up\u001b[0;34m(g, algo, c_pu, func, t_index, nb_tries)\u001b[0m\n\u001b[1;32m    100\u001b[0m                         \u001b[0;32mfor\u001b[0m \u001b[0mchild\u001b[0m \u001b[0;32min\u001b[0m \u001b[0mmy_mtg\u001b[0m\u001b[0;34m.\u001b[0m\u001b[0mchildren\u001b[0m\u001b[0;34m(\u001b[0m\u001b[0mvid\u001b[0m\u001b[0;34m)\u001b[0m\u001b[0;34m:\u001b[0m\u001b[0;34m\u001b[0m\u001b[0;34m\u001b[0m\u001b[0m\n\u001b[1;32m    101\u001b[0m                             \u001b[0;32mif\u001b[0m \u001b[0mcluster\u001b[0m\u001b[0;34m[\u001b[0m\u001b[0mchild\u001b[0m\u001b[0;34m]\u001b[0m \u001b[0;34m!=\u001b[0m \u001b[0mrank\u001b[0m\u001b[0;34m:\u001b[0m\u001b[0;34m\u001b[0m\u001b[0;34m\u001b[0m\u001b[0m\n\u001b[0;32m--> 102\u001b[0;31m                                 \u001b[0mreq\u001b[0m \u001b[0;34m=\u001b[0m \u001b[0mcomm\u001b[0m\u001b[0;34m.\u001b[0m\u001b[0mirecv\u001b[0m\u001b[0;34m(\u001b[0m\u001b[0msource\u001b[0m \u001b[0;34m=\u001b[0m \u001b[0mcluster\u001b[0m\u001b[0;34m[\u001b[0m\u001b[0mchild\u001b[0m\u001b[0;34m]\u001b[0m\u001b[0;34m,\u001b[0m\u001b[0mtag\u001b[0m \u001b[0;34m=\u001b[0m \u001b[0mchild\u001b[0m\u001b[0;34m)\u001b[0m\u001b[0;34m\u001b[0m\u001b[0;34m\u001b[0m\u001b[0m\n\u001b[0m\u001b[1;32m    103\u001b[0m                                 \u001b[0mmsg\u001b[0m \u001b[0;34m=\u001b[0m \u001b[0mreq\u001b[0m\u001b[0;34m.\u001b[0m\u001b[0mwait\u001b[0m\u001b[0;34m(\u001b[0m\u001b[0;34m)\u001b[0m\u001b[0;34m\u001b[0m\u001b[0;34m\u001b[0m\u001b[0m\n\u001b[1;32m    104\u001b[0m                                 \u001b[0mdict_result\u001b[0m\u001b[0;34m[\u001b[0m\u001b[0mvid\u001b[0m\u001b[0;34m]\u001b[0m \u001b[0;34m+=\u001b[0m \u001b[0mmsg\u001b[0m\u001b[0;34m\u001b[0m\u001b[0;34m\u001b[0m\u001b[0m\n",
      "\u001b[0;32mmpi4py/MPI/Comm.pyx\u001b[0m in \u001b[0;36mmpi4py.MPI.Comm.irecv\u001b[0;34m()\u001b[0m\n",
      "\u001b[0;32mmpi4py/MPI/msgpickle.pxi\u001b[0m in \u001b[0;36mmpi4py.MPI.PyMPI_irecv\u001b[0;34m()\u001b[0m\n",
      "\u001b[0;31mException\u001b[0m: Invalid rank, error stack:\nPMPI_Irecv(156): MPI_Irecv(buf=0x5647ae99a590, count=32768, MPI_BYTE, src=3, tag=34, MPI_COMM_WORLD, request=0x7effa06072e0) failed\nPMPI_Irecv(99).: Invalid rank has value 3 but must be nonnegative and less than 1"
     ]
    }
   ],
   "source": [
    "\n",
    "comm = MPI.COMM_WORLD\n",
    "rank = comm.Get_rank()\n",
    "\n",
    "def f_unc():\n",
    "    for x in range(10000):\n",
    "       x+=1\n",
    "\n",
    "algos = [Best_Fit_Clustering,First_Fit_Clustering, Best_Fit_Clustering_post_order, Best_Fit_Clustering_level_order]\n",
    "t_size = 99\n",
    "\n",
    "#nb_cpus = [8,16,32,64,128]\n",
    "nb_cpus=[4]\n",
    "nb_tries = 1\n",
    "for i in range(nb_tries):\n",
    "    my_mtg = MTG()\n",
    "    np.random.seed(seed = i)\n",
    "    dist = poisson(1., loc=1).rvs         \n",
    "    vid = my_mtg.add_component(my_mtg.root)\n",
    "    random_tree(my_mtg,vid,nb_children=dist,nb_vertices=t_size)\n",
    "    for j in range(len(nb_cpus)):\n",
    "        for algo in algos:\n",
    "            if rank == 0:\n",
    "                if my_mtg.property('cluster') != {}:\n",
    "                    my_mtg.remove_property('cluster')\n",
    "                if my_mtg.property('sub_tree') != {}:\n",
    "                    my_mtg.remove_property('sub_tree')\n",
    "                if my_mtg.property('connection_nodes') != {}:\n",
    "                    my_mtg.remove_property('connection_nodes')\n",
    "                if my_mtg.max_scale() - 1 !=  0:\n",
    "                    my_mtg.remove_scale(my_mtg.max_scale()-1)\n",
    "                start = MPI.Wtime()\n",
    "                if algo in algos:\n",
    "                    if algo != First_Fit_Clustering :\n",
    "                        algo(my_mtg,nb_cpus[j],0.4)\n",
    "                    else:\n",
    "                        algo(my_mtg,nb_cpus[j])\n",
    "               \n",
    "                \n",
    "                else:\n",
    "                    raise (\"Wrong algorithm try one of these \",algos)\n",
    "                \n",
    "                end = MPI.Wtime()\n",
    "                if path.exists('../data/results/' + algo.__name__ + '_partition_time.npy'):\n",
    "                    with open('../data/results/' + algo.__name__ + '_partition_time.npy','rb') as f:\n",
    "                        data = np.load(f)\n",
    "\n",
    "                    data[i,j] = end - start\n",
    "                    with open('../data/results/' + algo.__name__ + '_partition_time.npy','wb') as f1:\n",
    "                        np.save(f1,data)      \n",
    "                else:\n",
    "                    data = np.zeros([nb_tries,len(nb_cpus)])\n",
    "                    data[i,j] = end - start\n",
    "                    with open('../data/results/' + algo.__name__ + '_partition_time.npy','wb') as f1:\n",
    "                        np.save(f1,data) \n",
    "                \n",
    "                if path.exists('../data/results/' + algo.__name__ + '_longest_path.npy'):\n",
    "                    with open('../data/results/' + algo.__name__ + '_longest_path.npy','rb') as f:\n",
    "                        data = np.load(f)\n",
    "                    #T.insert_scale(T.max_scale(), lambda vid: vid in sub_tree and vid != None)\n",
    "\n",
    "                    data[i,j] = longest_path(my_mtg,nb_cpus[j])\n",
    "                    with open('../data/results/' + algo.__name__ + '_longest_path.npy','wb') as f1:\n",
    "                        np.save(f1,data)      \n",
    "                else:\n",
    "                    data = np.zeros([nb_tries,len(nb_cpus)])\n",
    "                    data[i,j] = longest_path(my_mtg,nb_cpus[j])\n",
    "                    with open('../data/results/' + algo.__name__ + '_longest_path.npy','wb') as f1:\n",
    "                        np.save(f1,data) \n",
    "\n",
    "                \n",
    "\n",
    "        \n",
    "                print(\"Partitoning finished for \",algo.__name__,\" is\", end-start)\n",
    "                print(\"---------------------------------------------------------------\")\n",
    "            comm.Barrier()\n",
    "           \n",
    "                \n",
    "            distributed_tree_traversal_bottom_up(my_mtg,algo,j,f_unc,i,nb_tries)   \n",
    "            distributed_tree_traversal_top_down(my_mtg,algo,j,f_unc,i,nb_tries) \n",
    "         \n",
    "\n",
    "\n",
    "\n"
   ]
  },
  {
   "cell_type": "code",
   "execution_count": null,
   "metadata": {},
   "outputs": [],
   "source": [
    "start_time = timeit.default_timer()\n",
    "distributed_tree_traversal(test_mtg,Best_Fit_Clustering_Paper,\"top_down\")\n",
    "end_time = timeit.default_timer()\n",
    "print(\"Time for top_down: \",end_time - start_time,\" seconds\")\n",
    "start_time = timeit.default_timer()\n",
    "distributed_tree_traversal(test_mtg,Best_Fit_Clustering_Paper,\"bottom_up\")\n",
    "end_time = timeit.default_timer()\n",
    "print(\"Time for bottom up: \",end_time - start_time,\" seconds\")\n",
    "IFrame(src='../data/plots/Best_Fit_Clustering_Paper_dependecy.html', width=1000, height=500)"
   ]
  },
  {
   "cell_type": "code",
   "execution_count": null,
   "metadata": {},
   "outputs": [],
   "source": [
    "start_time = timeit.default_timer()\n",
    "distributed_tree_traversal(test_mtg,Best_Fit_Clustering_Queue,\"Top_down\")\n",
    "end_time = timeit.default_timer()\n",
    "print(\"Time: \",end_time - start_time,\" seconds\")\n",
    "start_time = timeit.default_timer()\n",
    "distributed_tree_traversal(test_mtg,Best_Fit_Clustering_Queue,\"bottom_up\")\n",
    "end_time = timeit.default_timer()\n",
    "print(\"Time: \",end_time - start_time,\" seconds\")\n",
    "IFrame(src='../data/plots/Best_Fit_Clustering_Queue_dependecy.html', width=1000, height=500)"
   ]
  },
  {
   "cell_type": "code",
   "execution_count": null,
   "metadata": {},
   "outputs": [],
   "source": [
    "start_time = timeit.default_timer()\n",
    "distributed_tree_traversal(test_mtg,First_Fit_Clustering_Paper,\"top_down\")\n",
    "end_time = timeit.default_timer()\n",
    "print(\"Time: \",end_time - start_time,\" seconds\")\n",
    "start_time = timeit.default_timer()\n",
    "distributed_tree_traversal(test_mtg,First_Fit_Clustering_Paper,\"bottom_up\")\n",
    "end_time = timeit.default_timer()\n",
    "print(\"Time: \",end_time - start_time,\" seconds\")\n",
    "IFrame(src='../data/plots/First_Fit_Clustering_Paper_dependecy.html', width=1000, height=500)"
   ]
  },
  {
   "cell_type": "code",
   "execution_count": null,
   "metadata": {},
   "outputs": [],
   "source": [
    "start_time = timeit.default_timer()\n",
    "distributed_tree_traversal(test_mtg,Best_Fit_Clustering_Queue_1,\"top_down\")\n",
    "end_time = timeit.default_timer()\n",
    "print(\"Time: \",end_time - start_time,\" seconds\")\n",
    "start_time = timeit.default_timer()\n",
    "distributed_tree_traversal(test_mtg,Best_Fit_Clustering_Queue_1,\"bottom_up\")\n",
    "end_time = timeit.default_timer()\n",
    "print(\"Time: \",end_time - start_time,\" seconds\")\n",
    "IFrame(src='../data/plots/Best_Fit_Clustering_Queue_1_dependecy.html', width=1000, height=500)"
   ]
  },
  {
   "cell_type": "code",
   "execution_count": null,
   "metadata": {},
   "outputs": [],
   "source": [
    "start_time = timeit.default_timer()\n",
    "distributed_tree_traversal(test_mtg,Best_Fit_Clustering_level_order,\"top_down\")\n",
    "end_time = timeit.default_timer()\n",
    "print(\"Time: \",end_time - start_time,\" seconds\")\n",
    "start_time = timeit.default_timer()\n",
    "distributed_tree_traversal(test_mtg,Best_Fit_Clustering_level_order,\"bottom_up\")\n",
    "end_time = timeit.default_timer()\n",
    "print(\"Time: \",end_time - start_time,\" seconds\")"
   ]
  },
  {
   "cell_type": "code",
   "execution_count": null,
   "metadata": {},
   "outputs": [],
   "source": [
    "\n",
    "IFrame(src='../data/plots/Best_Fit_Clustering_level_order_dependecy.html', width=1000, height=500)"
   ]
  }
 ],
 "metadata": {
  "kernelspec": {
   "display_name": "Python 3",
   "language": "python",
   "name": "python3"
  },
  "language_info": {
   "codemirror_mode": {
    "name": "ipython",
    "version": 3
   },
   "file_extension": ".py",
   "mimetype": "text/x-python",
   "name": "python",
   "nbconvert_exporter": "python",
   "pygments_lexer": "ipython3",
   "version": "3.7.7"
  }
 },
 "nbformat": 4,
 "nbformat_minor": 4
}
