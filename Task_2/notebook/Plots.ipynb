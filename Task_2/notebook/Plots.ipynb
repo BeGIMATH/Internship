{
 "cells": [
  {
   "cell_type": "code",
   "execution_count": 1,
   "metadata": {},
   "outputs": [],
   "source": [
    "from openalea.mtg.mtg import *\n",
    "from openalea.mtg.algo import ancestors\n",
    "from openalea.mtg.io import *\n",
    "from openalea.mtg.traversal import *\n",
    "from scipy.stats import poisson, binom\n",
    "import os\n",
    "import timeit\n",
    "import sys\n",
    "from oawidgets.mtg import *\n",
    "from oawidgets.plantgl import PlantGL\n",
    "from openalea.mtg.draw import *\n",
    "import sys\n",
    "\n",
    "sys.path.append(\"../../Task_2/src/\")\n",
    "\n",
    "from algo import *\n",
    "\n",
    "from oawidgets.mtg import plot\n",
    "from oawidgets.plantgl import PlantGL\n",
    "\n"
   ]
  },
  {
   "cell_type": "code",
   "execution_count": 2,
   "metadata": {},
   "outputs": [
    {
     "ename": "TypeError",
     "evalue": "'float' object cannot be interpreted as an integer",
     "output_type": "error",
     "traceback": [
      "\u001b[0;31m---------------------------------------------------------------------------\u001b[0m",
      "\u001b[0;31mTypeError\u001b[0m                                 Traceback (most recent call last)",
      "\u001b[0;32m<ipython-input-2-d4f5ebe45608>\u001b[0m in \u001b[0;36m<module>\u001b[0;34m\u001b[0m\n\u001b[1;32m     17\u001b[0m \u001b[0mp\u001b[0m \u001b[0;34m=\u001b[0m \u001b[0;36m32\u001b[0m\u001b[0;34m\u001b[0m\u001b[0;34m\u001b[0m\u001b[0m\n\u001b[1;32m     18\u001b[0m \u001b[0mt3\u001b[0m \u001b[0;34m=\u001b[0m \u001b[0mtimeit\u001b[0m\u001b[0;34m.\u001b[0m\u001b[0mdefault_timer\u001b[0m\u001b[0;34m(\u001b[0m\u001b[0;34m)\u001b[0m\u001b[0;34m\u001b[0m\u001b[0;34m\u001b[0m\u001b[0m\n\u001b[0;32m---> 19\u001b[0;31m \u001b[0mclusters\u001b[0m \u001b[0;34m=\u001b[0m \u001b[0mFirst_Fit_Clustering\u001b[0m\u001b[0;34m(\u001b[0m\u001b[0mmy_mtg\u001b[0m\u001b[0;34m,\u001b[0m\u001b[0mp\u001b[0m\u001b[0;34m,\u001b[0m\u001b[0;36m0.4\u001b[0m\u001b[0;34m)\u001b[0m\u001b[0;34m\u001b[0m\u001b[0;34m\u001b[0m\u001b[0m\n\u001b[0m\u001b[1;32m     20\u001b[0m \u001b[0mt4\u001b[0m \u001b[0;34m=\u001b[0m \u001b[0mtimeit\u001b[0m\u001b[0;34m.\u001b[0m\u001b[0mdefault_timer\u001b[0m\u001b[0;34m(\u001b[0m\u001b[0;34m)\u001b[0m\u001b[0;34m\u001b[0m\u001b[0;34m\u001b[0m\u001b[0m\n\u001b[1;32m     21\u001b[0m \u001b[0;34m\u001b[0m\u001b[0m\n",
      "\u001b[0;32m~/Desktop/Thesis_Project/Internship/Task_2/src/algo.py\u001b[0m in \u001b[0;36mFirst_Fit_Clustering\u001b[0;34m(tree, c_omponent, p)\u001b[0m\n\u001b[1;32m    204\u001b[0m \u001b[0;32mdef\u001b[0m \u001b[0mFirst_Fit_Clustering\u001b[0m\u001b[0;34m(\u001b[0m\u001b[0mtree\u001b[0m\u001b[0;34m,\u001b[0m\u001b[0mc_omponent\u001b[0m\u001b[0;34m,\u001b[0m\u001b[0mp\u001b[0m\u001b[0;34m)\u001b[0m\u001b[0;34m:\u001b[0m\u001b[0;34m\u001b[0m\u001b[0;34m\u001b[0m\u001b[0m\n\u001b[1;32m    205\u001b[0m     \u001b[0mvtx_id\u001b[0m \u001b[0;34m=\u001b[0m \u001b[0mc_omponent\u001b[0m\u001b[0;34m\u001b[0m\u001b[0;34m\u001b[0m\u001b[0m\n\u001b[0;32m--> 206\u001b[0;31m     \u001b[0mC\u001b[0m \u001b[0;34m=\u001b[0m \u001b[0;34m[\u001b[0m\u001b[0;34m[\u001b[0m\u001b[0;34m]\u001b[0m \u001b[0;32mfor\u001b[0m \u001b[0mi\u001b[0m \u001b[0;32min\u001b[0m \u001b[0mrange\u001b[0m\u001b[0;34m(\u001b[0m\u001b[0mp\u001b[0m\u001b[0;34m)\u001b[0m\u001b[0;34m]\u001b[0m\u001b[0;34m\u001b[0m\u001b[0;34m\u001b[0m\u001b[0m\n\u001b[0m\u001b[1;32m    207\u001b[0m     \u001b[0mweights\u001b[0m \u001b[0;34m=\u001b[0m \u001b[0mnp\u001b[0m\u001b[0;34m.\u001b[0m\u001b[0mzeros\u001b[0m\u001b[0;34m(\u001b[0m\u001b[0mlen\u001b[0m\u001b[0;34m(\u001b[0m\u001b[0mtree\u001b[0m\u001b[0;34m)\u001b[0m\u001b[0;34m)\u001b[0m\u001b[0;34m\u001b[0m\u001b[0;34m\u001b[0m\u001b[0m\n\u001b[1;32m    208\u001b[0m     \u001b[0;32mfor\u001b[0m \u001b[0mv\u001b[0m \u001b[0;32min\u001b[0m \u001b[0mpost_order\u001b[0m\u001b[0;34m(\u001b[0m\u001b[0mtree\u001b[0m\u001b[0;34m,\u001b[0m\u001b[0mc_omponent\u001b[0m\u001b[0;34m)\u001b[0m\u001b[0;34m:\u001b[0m\u001b[0;34m\u001b[0m\u001b[0;34m\u001b[0m\u001b[0m\n",
      "\u001b[0;31mTypeError\u001b[0m: 'float' object cannot be interpreted as an integer"
     ]
    }
   ],
   "source": [
    "\n",
    "\n",
    "\n",
    "my_mtg = MTG()#'../data/noylum2.mtg')\n",
    "dist = poisson(1., loc=1).rvs\n",
    "\n",
    "vid = my_mtg.add_component(my_mtg.root)\n",
    "\n",
    "random_tree(my_mtg,vid,nb_children=dist,nb_vertices=99)\n",
    "\n",
    "\n",
    "\n",
    "#my_copy = my_mtg.copy()\n",
    "\n",
    "\"\"\"\n",
    "t5 = timeit.default_timer()\n",
    "clusters_1 = SFC_FF(my_mtg,vid,10)\n",
    "t6 = timeit.default_timer()\n",
    "\"\"\"\n",
    "p = 32\n",
    "t3 = timeit.default_timer()\n",
    "clusters = First_Fit_Clustering(my_mtg,p,0.4)\n",
    "t4 = timeit.default_timer()\n",
    "\n",
    "#print(\"Time for clustering with the first algorithm based on paper\",t2-t1)\n",
    "print(\"Time for clustering with the first algorithm using the queue\",t4-t3)\n",
    "#print(\"Time for clustering with the second algorithm using queue removing the subtree\",t6-t5)\n",
    "\"\"\"\n",
    "for i in range(p):\n",
    "    print(\"------------------------\")\n",
    "    print(\"Cluster\",i,\"with length \",len(clusters[i]))\n",
    "    print(\"And nodes \",clusters[i])\n",
    "\n",
    "\n",
    "\"\"\"\n",
    "cluster = my_mtg.property('cluster')\n",
    "#print(my_mtg.property('cluster'))\n",
    "\n",
    "\n"
   ]
  },
  {
   "cell_type": "code",
   "execution_count": 3,
   "metadata": {},
   "outputs": [
    {
     "data": {
      "text/html": [
       "\n",
       "        <iframe\n",
       "            width=\"900px\"\n",
       "            height=\"800px\"\n",
       "            src=\"mtg.html\"\n",
       "            frameborder=\"0\"\n",
       "            allowfullscreen\n",
       "        ></iframe>\n",
       "        "
      ],
      "text/plain": [
       "<IPython.lib.display.IFrame at 0x7f4143670190>"
      ]
     },
     "execution_count": 3,
     "metadata": {},
     "output_type": "execute_result"
    }
   ],
   "source": [
    "plot_clusters_dict(my_mtg,nb_clusters=32)\n"
   ]
  },
  {
   "cell_type": "code",
   "execution_count": 4,
   "metadata": {},
   "outputs": [
    {
     "name": "stdout",
     "output_type": "stream",
     "text": [
      "Time for clustering with the first algorithm using the queue 0.0016570868901908398\n",
      "{53: 0, 52: 0, 33: 0, 32: 0, 24: 0, 9: 0, 59: 0, 8: 0, 7: 0, 69: 1, 70: 1, 68: 1, 84: 1, 80: 1, 79: 1, 78: 1, 67: 1, 36: 1, 51: 2, 50: 2, 49: 2, 43: 2, 56: 2, 57: 2, 83: 2, 82: 2, 81: 2, 55: 2, 54: 2, 42: 2, 41: 2, 23: 2, 61: 3, 100: 3, 99: 3, 89: 3, 88: 3, 87: 3, 60: 3, 26: 3, 25: 3, 18: 3, 94: 4, 97: 4, 98: 4, 96: 4, 95: 4, 93: 4, 86: 4, 85: 4, 34: 4, 74: 5, 76: 5, 92: 5, 91: 5, 75: 5, 73: 5, 72: 5, 71: 5, 31: 5, 40: 6, 48: 6, 47: 6, 46: 6, 45: 6, 39: 6, 35: 6, 17: 6, 44: 7, 20: 7, 22: 7, 58: 7, 27: 7, 21: 7, 63: 7, 90: 7, 62: 7, 19: 7, 15: 7, 11: 8, 38: 8, 37: 8, 13: 8, 77: 8, 16: 8, 14: 8, 12: 8, 10: 8, 6: 8, 5: 9, 30: 9, 66: 9, 65: 9, 64: 9, 29: 9, 28: 9, 4: 9, 3: 9, 2: 9, 1: 9}\n"
     ]
    }
   ],
   "source": [
    "\n",
    "\n",
    "\n",
    "my_mtg = MTG()#'/home/begatim/Desktop/mtg/share/data/noylum2.mtg')\n",
    "dist = poisson(1., loc=1).rvs\n",
    "\n",
    "vid = my_mtg.add_component(my_mtg.root)\n",
    "\n",
    "random_tree(my_mtg,vid,nb_children=dist,nb_vertices=99)\n",
    "\n",
    "\n",
    "\n",
    "my_copy = my_mtg.copy()\n",
    "\n",
    "\"\"\"\n",
    "t5 = timeit.default_timer()\n",
    "clusters_1 = SFC_FF(my_mtg,vid,10)\n",
    "t6 = timeit.default_timer()\n",
    "\"\"\"\n",
    "p = 10\n",
    "t3 = timeit.default_timer()\n",
    "Best_Fit_Clustering_1(my_mtg,vid,p,0.4)\n",
    "t4 = timeit.default_timer()\n",
    "\n",
    "#print(\"Time for clustering with the first algorithm based on paper\",t2-t1)\n",
    "print(\"Time for clustering with the first algorithm using the queue\",t4-t3)\n",
    "#print(\"Time for clustering with the second algorithm using queue removing the subtree\",t6-t5)\n",
    "\n",
    "\"\"\"\n",
    "for i in range(p):\n",
    "    print(\"------------------------\")\n",
    "    print(\"Cluster\",i,\"with length \",len(clusters[i]))\n",
    "    print(\"And nodes \",clusters[i])\n",
    "\n",
    "\n",
    "\"\"\"\n",
    "\n",
    "print(my_mtg.property('cluster'))\n",
    "\n",
    "\n"
   ]
  },
  {
   "cell_type": "code",
   "execution_count": 5,
   "metadata": {},
   "outputs": [
    {
     "data": {
      "text/html": [
       "\n",
       "        <iframe\n",
       "            width=\"900px\"\n",
       "            height=\"800px\"\n",
       "            src=\"mtg.html\"\n",
       "            frameborder=\"0\"\n",
       "            allowfullscreen\n",
       "        ></iframe>\n",
       "        "
      ],
      "text/plain": [
       "<IPython.lib.display.IFrame at 0x7f1349744290>"
      ]
     },
     "execution_count": 5,
     "metadata": {},
     "output_type": "execute_result"
    }
   ],
   "source": [
    "plot_clusters_dict(my_mtg,nb_cluster=p)"
   ]
  },
  {
   "cell_type": "code",
   "execution_count": 6,
   "metadata": {},
   "outputs": [
    {
     "ename": "NameError",
     "evalue": "name 'my_copy_1' is not defined",
     "output_type": "error",
     "traceback": [
      "\u001b[0;31m---------------------------------------------------------------------------\u001b[0m",
      "\u001b[0;31mNameError\u001b[0m                                 Traceback (most recent call last)",
      "\u001b[0;32m<ipython-input-6-ca3c137bc35b>\u001b[0m in \u001b[0;36m<module>\u001b[0;34m\u001b[0m\n\u001b[0;32m----> 1\u001b[0;31m \u001b[0mmy_mtg\u001b[0m \u001b[0;34m=\u001b[0m \u001b[0mmy_copy_1\u001b[0m\u001b[0;34m.\u001b[0m\u001b[0mcopy\u001b[0m\u001b[0;34m(\u001b[0m\u001b[0;34m)\u001b[0m\u001b[0;34m\u001b[0m\u001b[0;34m\u001b[0m\u001b[0m\n\u001b[0m\u001b[1;32m      2\u001b[0m \u001b[0;34m\u001b[0m\u001b[0m\n\u001b[1;32m      3\u001b[0m \u001b[0;34m\u001b[0m\u001b[0m\n\u001b[1;32m      4\u001b[0m \u001b[0mmy_copy_2\u001b[0m \u001b[0;34m=\u001b[0m \u001b[0mmy_mtg\u001b[0m\u001b[0;34m.\u001b[0m\u001b[0mcopy\u001b[0m\u001b[0;34m(\u001b[0m\u001b[0;34m)\u001b[0m\u001b[0;34m\u001b[0m\u001b[0;34m\u001b[0m\u001b[0m\n\u001b[1;32m      5\u001b[0m \u001b[0;31m#random_tree(my_mtg,vid, nb_children=dist,nb_vertices=99)\u001b[0m\u001b[0;34m\u001b[0m\u001b[0;34m\u001b[0m\u001b[0;34m\u001b[0m\u001b[0m\n",
      "\u001b[0;31mNameError\u001b[0m: name 'my_copy_1' is not defined"
     ]
    }
   ],
   "source": [
    "\n",
    "\n",
    "\n",
    "my_mtg = my_copy_1.copy()\n",
    "\n",
    "\n",
    "my_copy_2 = my_mtg.copy()\n",
    "#random_tree(my_mtg,vid, nb_children=dist,nb_vertices=99)\n",
    "\n",
    "\"\"\"\n",
    "t5 = timeit.default_timer()\n",
    "clusters_1 = SFC_FF(my_mtg,vid,10)\n",
    "t6 = timeit.default_timer()\n",
    "\"\"\"\n",
    "p = 10\n",
    "t3 = timeit.default_timer()\n",
    "clusters_1 = SFC_BF_3(my_mtg,vid,p,0.4)\n",
    "\n",
    "t4 = timeit.default_timer()\n",
    "\n",
    "#print(\"Time for clustering with the first algorithm based on paper\",t2-t1)\n",
    "print(\"Time for clustering with the first algorithm using the queue\",t4-t3)\n",
    "#print(\"Time for clustering with the second algorithm using queue removing the subtree\",t6-t5)\n",
    "\n",
    "\n",
    "for i in range(p):\n",
    "    print(\"------------------------\")\n",
    "    print(\"Cluster\",i,\"with length \",len(clusters_1[i]))\n",
    "    print(\"And nodes \",clusters_1[i])\n",
    "\n"
   ]
  },
  {
   "cell_type": "code",
   "execution_count": null,
   "metadata": {},
   "outputs": [],
   "source": [
    "plot_clusters(my_copy_2,cluster=clusters_1)"
   ]
  }
 ],
 "metadata": {
  "kernelspec": {
   "display_name": "Python 3",
   "language": "python",
   "name": "python3"
  },
  "language_info": {
   "codemirror_mode": {
    "name": "ipython",
    "version": 3
   },
   "file_extension": ".py",
   "mimetype": "text/x-python",
   "name": "python",
   "nbconvert_exporter": "python",
   "pygments_lexer": "ipython3",
   "version": "3.7.6"
  }
 },
 "nbformat": 4,
 "nbformat_minor": 4
}
