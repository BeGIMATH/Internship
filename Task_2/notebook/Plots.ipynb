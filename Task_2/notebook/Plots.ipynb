{
 "cells": [
  {
   "cell_type": "code",
   "execution_count": 1,
   "metadata": {},
   "outputs": [],
   "source": [
    "from openalea.mtg.mtg import *\n",
    "from openalea.mtg.algo import ancestors\n",
    "from openalea.mtg.io import *\n",
    "from openalea.mtg.traversal import *\n",
    "from scipy.stats import poisson, binom\n",
    "import os\n",
    "import timeit\n",
    "import sys\n",
    "from oawidgets.mtg import *\n",
    "from oawidgets.plantgl import PlantGL\n",
    "from openalea.mtg.draw import *\n",
    "import sys\n",
    "\n",
    "sys.path.append(\"../../Task_2/src/\")\n",
    "\n",
    "from algo_bench import *\n",
    "from algo_distributed_notebook import *\n",
    "from oawidgets.mtg import plot\n",
    "from oawidgets.plantgl import PlantGL\n",
    "from IPython.display import HTML\n",
    "from IPython.display import IFrame"
   ]
  },
  {
   "cell_type": "code",
   "execution_count": 2,
   "metadata": {},
   "outputs": [],
   "source": [
    "from ipyparallel import Client\n",
    "clients = Client()\n"
   ]
  },
  {
   "cell_type": "code",
   "execution_count": 3,
   "metadata": {},
   "outputs": [],
   "source": [
    "\n",
    "from mpi4py import MPI\n"
   ]
  },
  {
   "cell_type": "code",
   "execution_count": 4,
   "metadata": {},
   "outputs": [],
   "source": [
    "\n",
    "test_mtg = MTG()#'../data/noylum2.mtg')\n",
    "dist = poisson(1., loc=1).rvs\n",
    "\n",
    "vid = test_mtg.add_component(test_mtg.root)\n",
    "\n",
    "random_tree(test_mtg,vid,nb_children=dist,nb_vertices=9999)\n",
    "p =  psutil.cpu_count(logical=False)\n"
   ]
  },
  {
   "cell_type": "code",
   "execution_count": 5,
   "metadata": {},
   "outputs": [
    {
     "name": "stdout",
     "output_type": "stream",
     "text": [
      "Time it take for MPI  0.008817911148071289\n",
      "Time for top_down:  2.268361474998528  seconds\n",
      "Time it take for MPI  0.008667945861816406\n",
      "Time for bottom up:  2.255359860981116  seconds\n"
     ]
    },
    {
     "data": {
      "text/html": [
       "\n",
       "        <iframe\n",
       "            width=\"1000\"\n",
       "            height=\"500\"\n",
       "            src=\"../data/plots/Best_Fit_Clustering_Paper_dependecy.html\"\n",
       "            frameborder=\"0\"\n",
       "            allowfullscreen\n",
       "        ></iframe>\n",
       "        "
      ],
      "text/plain": [
       "<IPython.lib.display.IFrame at 0x7f1306860fd0>"
      ]
     },
     "execution_count": 5,
     "metadata": {},
     "output_type": "execute_result"
    }
   ],
   "source": [
    "start_time = timeit.default_timer()\n",
    "distributed_tree_traversal(test_mtg,Best_Fit_Clustering_Paper,\"top_down\")\n",
    "end_time = timeit.default_timer()\n",
    "print(\"Time for top_down: \",end_time - start_time,\" seconds\")\n",
    "start_time = timeit.default_timer()\n",
    "distributed_tree_traversal(test_mtg,Best_Fit_Clustering_Paper,\"bottom_up\")\n",
    "end_time = timeit.default_timer()\n",
    "print(\"Time for bottom up: \",end_time - start_time,\" seconds\")\n",
    "IFrame(src='../data/plots/Best_Fit_Clustering_Paper_dependecy.html', width=1000, height=500)"
   ]
  },
  {
   "cell_type": "code",
   "execution_count": 6,
   "metadata": {},
   "outputs": [
    {
     "name": "stdout",
     "output_type": "stream",
     "text": [
      "Time it take for MPI  0.008494138717651367\n",
      "Time:  2.339286867994815  seconds\n",
      "Time it take for MPI  0.008600950241088867\n",
      "Time:  2.260253578017  seconds\n"
     ]
    },
    {
     "data": {
      "text/html": [
       "\n",
       "        <iframe\n",
       "            width=\"1000\"\n",
       "            height=\"500\"\n",
       "            src=\"../data/plots/Best_Fit_Clustering_Queue_dependecy.html\"\n",
       "            frameborder=\"0\"\n",
       "            allowfullscreen\n",
       "        ></iframe>\n",
       "        "
      ],
      "text/plain": [
       "<IPython.lib.display.IFrame at 0x7f1304f4a950>"
      ]
     },
     "execution_count": 6,
     "metadata": {},
     "output_type": "execute_result"
    }
   ],
   "source": [
    "start_time = timeit.default_timer()\n",
    "distributed_tree_traversal(test_mtg,Best_Fit_Clustering_Queue,\"Top_down\")\n",
    "end_time = timeit.default_timer()\n",
    "print(\"Time: \",end_time - start_time,\" seconds\")\n",
    "start_time = timeit.default_timer()\n",
    "distributed_tree_traversal(test_mtg,Best_Fit_Clustering_Queue,\"bottom_up\")\n",
    "end_time = timeit.default_timer()\n",
    "print(\"Time: \",end_time - start_time,\" seconds\")\n",
    "IFrame(src='../data/plots/Best_Fit_Clustering_Queue_dependecy.html', width=1000, height=500)"
   ]
  },
  {
   "cell_type": "code",
   "execution_count": 7,
   "metadata": {},
   "outputs": [
    {
     "name": "stdout",
     "output_type": "stream",
     "text": [
      "Time it take for MPI  0.008187055587768555\n",
      "Time:  2.2183610310021322  seconds\n",
      "Time it take for MPI  0.00827479362487793\n",
      "Time:  2.2101747389824595  seconds\n"
     ]
    },
    {
     "data": {
      "text/html": [
       "\n",
       "        <iframe\n",
       "            width=\"1000\"\n",
       "            height=\"500\"\n",
       "            src=\"../data/plots/First_Fit_Clustering_Paper_dependecy.html\"\n",
       "            frameborder=\"0\"\n",
       "            allowfullscreen\n",
       "        ></iframe>\n",
       "        "
      ],
      "text/plain": [
       "<IPython.lib.display.IFrame at 0x7f1304e5d8d0>"
      ]
     },
     "execution_count": 7,
     "metadata": {},
     "output_type": "execute_result"
    }
   ],
   "source": [
    "start_time = timeit.default_timer()\n",
    "distributed_tree_traversal(test_mtg,First_Fit_Clustering_Paper,\"top_down\")\n",
    "end_time = timeit.default_timer()\n",
    "print(\"Time: \",end_time - start_time,\" seconds\")\n",
    "start_time = timeit.default_timer()\n",
    "distributed_tree_traversal(test_mtg,First_Fit_Clustering_Paper,\"bottom_up\")\n",
    "end_time = timeit.default_timer()\n",
    "print(\"Time: \",end_time - start_time,\" seconds\")\n",
    "IFrame(src='../data/plots/First_Fit_Clustering_Paper_dependecy.html', width=1000, height=500)"
   ]
  },
  {
   "cell_type": "code",
   "execution_count": 8,
   "metadata": {},
   "outputs": [
    {
     "name": "stdout",
     "output_type": "stream",
     "text": [
      "Time it take for MPI  0.008169174194335938\n",
      "Time:  2.1878359869879205  seconds\n",
      "Time it take for MPI  0.00831294059753418\n",
      "Time:  2.2133524519740604  seconds\n"
     ]
    },
    {
     "data": {
      "text/html": [
       "\n",
       "        <iframe\n",
       "            width=\"1000\"\n",
       "            height=\"500\"\n",
       "            src=\"../data/plots/Best_Fit_Clustering_Queue_1_dependecy.html\"\n",
       "            frameborder=\"0\"\n",
       "            allowfullscreen\n",
       "        ></iframe>\n",
       "        "
      ],
      "text/plain": [
       "<IPython.lib.display.IFrame at 0x7f132f779850>"
      ]
     },
     "execution_count": 8,
     "metadata": {},
     "output_type": "execute_result"
    }
   ],
   "source": [
    "start_time = timeit.default_timer()\n",
    "distributed_tree_traversal(test_mtg,Best_Fit_Clustering_Queue_1,\"top_down\")\n",
    "end_time = timeit.default_timer()\n",
    "print(\"Time: \",end_time - start_time,\" seconds\")\n",
    "start_time = timeit.default_timer()\n",
    "distributed_tree_traversal(test_mtg,Best_Fit_Clustering_Queue_1,\"bottom_up\")\n",
    "end_time = timeit.default_timer()\n",
    "print(\"Time: \",end_time - start_time,\" seconds\")\n",
    "IFrame(src='../data/plots/Best_Fit_Clustering_Queue_1_dependecy.html', width=1000, height=500)"
   ]
  },
  {
   "cell_type": "code",
   "execution_count": 9,
   "metadata": {},
   "outputs": [
    {
     "name": "stdout",
     "output_type": "stream",
     "text": [
      "Time it take for MPI  0.00922083854675293\n",
      "Time:  2.262217005016282  seconds\n",
      "Time it take for MPI  0.03807687759399414\n",
      "Time:  2.3695836160040926  seconds\n"
     ]
    },
    {
     "data": {
      "text/html": [
       "\n",
       "        <iframe\n",
       "            width=\"1000\"\n",
       "            height=\"500\"\n",
       "            src=\"../data/plots/Best_Fit_Clustering_level_order_dependecy.html\"\n",
       "            frameborder=\"0\"\n",
       "            allowfullscreen\n",
       "        ></iframe>\n",
       "        "
      ],
      "text/plain": [
       "<IPython.lib.display.IFrame at 0x7f134125a7d0>"
      ]
     },
     "execution_count": 9,
     "metadata": {},
     "output_type": "execute_result"
    }
   ],
   "source": [
    "start_time = timeit.default_timer()\n",
    "distributed_tree_traversal(test_mtg,Best_Fit_Clustering_level_order,\"top_down\")\n",
    "end_time = timeit.default_timer()\n",
    "print(\"Time: \",end_time - start_time,\" seconds\")\n",
    "start_time = timeit.default_timer()\n",
    "distributed_tree_traversal(test_mtg,Best_Fit_Clustering_level_order,\"bottom_up\")\n",
    "end_time = timeit.default_timer()\n",
    "print(\"Time: \",end_time - start_time,\" seconds\")\n",
    "IFrame(src='../data/plots/Best_Fit_Clustering_level_order_dependecy.html', width=1000, height=500)"
   ]
  }
 ],
 "metadata": {
  "kernelspec": {
   "display_name": "Python 3",
   "language": "python",
   "name": "python3"
  },
  "language_info": {
   "codemirror_mode": {
    "name": "ipython",
    "version": 3
   },
   "file_extension": ".py",
   "mimetype": "text/x-python",
   "name": "python",
   "nbconvert_exporter": "python",
   "pygments_lexer": "ipython3",
   "version": "3.7.7"
  }
 },
 "nbformat": 4,
 "nbformat_minor": 4
}
