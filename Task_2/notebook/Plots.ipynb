{
 "cells": [
  {
   "cell_type": "code",
   "execution_count": 1,
   "metadata": {},
   "outputs": [],
   "source": [
    "from openalea.mtg.mtg import *\n",
    "from openalea.mtg.algo import ancestors\n",
    "from openalea.mtg.io import *\n",
    "from openalea.mtg.traversal import *\n",
    "from scipy.stats import poisson, binom\n",
    "import os\n",
    "import timeit\n",
    "import sys\n",
    "from oawidgets.mtg import *\n",
    "from oawidgets.plantgl import PlantGL\n",
    "from openalea.mtg.draw import *\n",
    "import sys\n",
    "\n",
    "sys.path.append(\"../../Task_2/src/\")\n",
    "\n",
    "from algo_bench import *\n",
    "from algo_distributed_notebook import *\n",
    "from oawidgets.mtg import plot\n",
    "from oawidgets.plantgl import PlantGL\n",
    "from IPython.display import HTML\n",
    "from IPython.display import IFrame"
   ]
  },
  {
   "cell_type": "code",
   "execution_count": 2,
   "metadata": {},
   "outputs": [],
   "source": [
    "from ipyparallel import Client\n",
    "clients = Client()\n"
   ]
  },
  {
   "cell_type": "code",
   "execution_count": 3,
   "metadata": {},
   "outputs": [],
   "source": [
    "\n",
    "from mpi4py import MPI\n"
   ]
  },
  {
   "cell_type": "code",
   "execution_count": 4,
   "metadata": {},
   "outputs": [],
   "source": [
    "\n",
    "test_mtg = MTG()#'../data/noylum2.mtg')\n",
    "dist = poisson(1., loc=1).rvs\n",
    "\n",
    "vid = test_mtg.add_component(test_mtg.root)\n",
    "\n",
    "random_tree(test_mtg,vid,nb_children=dist,nb_vertices=99)\n",
    "p =  psutil.cpu_count(logical=False)\n"
   ]
  },
  {
   "cell_type": "code",
   "execution_count": 5,
   "metadata": {},
   "outputs": [
    {
     "name": "stdout",
     "output_type": "stream",
     "text": [
      "Time it take for MPI  0.000268529\n",
      "Time for top_down:  0.029505878977943212  seconds\n"
     ]
    },
    {
     "data": {
      "text/html": [
       "\n",
       "        <iframe\n",
       "            width=\"1000\"\n",
       "            height=\"500\"\n",
       "            src=\"../data/plots/Best_Fit_Clustering_Paper_dependecy.html\"\n",
       "            frameborder=\"0\"\n",
       "            allowfullscreen\n",
       "        ></iframe>\n",
       "        "
      ],
      "text/plain": [
       "<IPython.lib.display.IFrame at 0x7f5b3833ff50>"
      ]
     },
     "execution_count": 5,
     "metadata": {},
     "output_type": "execute_result"
    }
   ],
   "source": [
    "start_time = timeit.default_timer()\n",
    "distributed_tree_traversal(test_mtg,Best_Fit_Clustering_Paper,\"top_down\")\n",
    "end_time = timeit.default_timer()\n",
    "print(\"Time for top_down: \",end_time - start_time,\" seconds\")\n",
    "IFrame(src='../data/plots/Best_Fit_Clustering_Paper_dependecy.html', width=1000, height=500)"
   ]
  },
  {
   "cell_type": "code",
   "execution_count": 6,
   "metadata": {},
   "outputs": [
    {
     "name": "stdout",
     "output_type": "stream",
     "text": [
      "Time it take for MPI  0.00020431500000001046\n",
      "Time for bottom up:  0.02399591205175966  seconds\n"
     ]
    },
    {
     "data": {
      "text/html": [
       "\n",
       "        <iframe\n",
       "            width=\"1000\"\n",
       "            height=\"500\"\n",
       "            src=\"../data/plots/Best_Fit_Clustering_Paper_dependecy.html\"\n",
       "            frameborder=\"0\"\n",
       "            allowfullscreen\n",
       "        ></iframe>\n",
       "        "
      ],
      "text/plain": [
       "<IPython.lib.display.IFrame at 0x7f5b043a3710>"
      ]
     },
     "execution_count": 6,
     "metadata": {},
     "output_type": "execute_result"
    }
   ],
   "source": [
    "start_time = timeit.default_timer()\n",
    "distributed_tree_traversal(test_mtg,Best_Fit_Clustering_Paper,\"bottom_up\")\n",
    "end_time = timeit.default_timer()\n",
    "print(\"Time for bottom up: \",end_time - start_time,\" seconds\")\n",
    "IFrame(src='../data/plots/Best_Fit_Clustering_Paper_dependecy.html', width=1000, height=500)"
   ]
  },
  {
   "cell_type": "code",
   "execution_count": 7,
   "metadata": {},
   "outputs": [
    {
     "name": "stdout",
     "output_type": "stream",
     "text": [
      "Time it take for MPI  0.00023850899999999786\n",
      "Time:  0.031133601965848356  seconds\n"
     ]
    },
    {
     "data": {
      "text/html": [
       "\n",
       "        <iframe\n",
       "            width=\"1000\"\n",
       "            height=\"500\"\n",
       "            src=\"../data/plots/Best_Fit_Clustering_Queue_dependecy.html\"\n",
       "            frameborder=\"0\"\n",
       "            allowfullscreen\n",
       "        ></iframe>\n",
       "        "
      ],
      "text/plain": [
       "<IPython.lib.display.IFrame at 0x7f5b04344050>"
      ]
     },
     "execution_count": 7,
     "metadata": {},
     "output_type": "execute_result"
    }
   ],
   "source": [
    "start_time = timeit.default_timer()\n",
    "distributed_tree_traversal(test_mtg,Best_Fit_Clustering_Queue,\"Top_down\")\n",
    "end_time = timeit.default_timer()\n",
    "print(\"Time: \",end_time - start_time,\" seconds\")\n",
    "IFrame(src='../data/plots/Best_Fit_Clustering_Queue_dependecy.html', width=1000, height=500)"
   ]
  },
  {
   "cell_type": "code",
   "execution_count": 8,
   "metadata": {},
   "outputs": [
    {
     "name": "stdout",
     "output_type": "stream",
     "text": [
      "Time it take for MPI  0.00044580700000002027\n",
      "Time:  0.05079638597089797  seconds\n"
     ]
    },
    {
     "data": {
      "text/html": [
       "\n",
       "        <iframe\n",
       "            width=\"1000\"\n",
       "            height=\"500\"\n",
       "            src=\"../data/plots/Best_Fit_Clustering_Queue_dependecy.html\"\n",
       "            frameborder=\"0\"\n",
       "            allowfullscreen\n",
       "        ></iframe>\n",
       "        "
      ],
      "text/plain": [
       "<IPython.lib.display.IFrame at 0x7f5b04371e10>"
      ]
     },
     "execution_count": 8,
     "metadata": {},
     "output_type": "execute_result"
    }
   ],
   "source": [
    "start_time = timeit.default_timer()\n",
    "distributed_tree_traversal(test_mtg,Best_Fit_Clustering_Queue,\"bottom_up\")\n",
    "end_time = timeit.default_timer()\n",
    "print(\"Time: \",end_time - start_time,\" seconds\")\n",
    "IFrame(src='../data/plots/Best_Fit_Clustering_Queue_dependecy.html', width=1000, height=500)"
   ]
  },
  {
   "cell_type": "code",
   "execution_count": 9,
   "metadata": {},
   "outputs": [
    {
     "name": "stdout",
     "output_type": "stream",
     "text": [
      "Time it take for MPI  0.00046890899999996183\n",
      "Time:  0.04879912704927847  seconds\n"
     ]
    },
    {
     "data": {
      "text/html": [
       "\n",
       "        <iframe\n",
       "            width=\"1000\"\n",
       "            height=\"500\"\n",
       "            src=\"../data/plots/First_Fit_Clustering_Paper_dependecy.html\"\n",
       "            frameborder=\"0\"\n",
       "            allowfullscreen\n",
       "        ></iframe>\n",
       "        "
      ],
      "text/plain": [
       "<IPython.lib.display.IFrame at 0x7f5b0435f450>"
      ]
     },
     "execution_count": 9,
     "metadata": {},
     "output_type": "execute_result"
    }
   ],
   "source": [
    "start_time = timeit.default_timer()\n",
    "distributed_tree_traversal(test_mtg,First_Fit_Clustering_Paper,\"top_down\")\n",
    "end_time = timeit.default_timer()\n",
    "print(\"Time: \",end_time - start_time,\" seconds\")\n",
    "IFrame(src='../data/plots/First_Fit_Clustering_Paper_dependecy.html', width=1000, height=500)"
   ]
  },
  {
   "cell_type": "code",
   "execution_count": 10,
   "metadata": {},
   "outputs": [
    {
     "name": "stdout",
     "output_type": "stream",
     "text": [
      "Time it take for MPI  0.0005241910000000072\n",
      "Time:  0.04530960402917117  seconds\n"
     ]
    },
    {
     "data": {
      "text/html": [
       "\n",
       "        <iframe\n",
       "            width=\"1000\"\n",
       "            height=\"500\"\n",
       "            src=\"../data/plots/First_Fit_Clustering_Paper_dependecy.html\"\n",
       "            frameborder=\"0\"\n",
       "            allowfullscreen\n",
       "        ></iframe>\n",
       "        "
      ],
      "text/plain": [
       "<IPython.lib.display.IFrame at 0x7f5b08a7ba90>"
      ]
     },
     "execution_count": 10,
     "metadata": {},
     "output_type": "execute_result"
    }
   ],
   "source": [
    "start_time = timeit.default_timer()\n",
    "distributed_tree_traversal(test_mtg,First_Fit_Clustering_Paper,\"bottom_up\")\n",
    "end_time = timeit.default_timer()\n",
    "print(\"Time: \",end_time - start_time,\" seconds\")\n",
    "IFrame(src='../data/plots/First_Fit_Clustering_Paper_dependecy.html', width=1000, height=500)"
   ]
  },
  {
   "cell_type": "code",
   "execution_count": 11,
   "metadata": {},
   "outputs": [
    {
     "name": "stdout",
     "output_type": "stream",
     "text": [
      "Time it take for MPI  0.00031309899999998336\n",
      "Time:  0.025487760023679584  seconds\n"
     ]
    },
    {
     "data": {
      "text/html": [
       "\n",
       "        <iframe\n",
       "            width=\"1000\"\n",
       "            height=\"500\"\n",
       "            src=\"../data/plots/Best_Fit_Clustering_Queue_1_dependecy.html\"\n",
       "            frameborder=\"0\"\n",
       "            allowfullscreen\n",
       "        ></iframe>\n",
       "        "
      ],
      "text/plain": [
       "<IPython.lib.display.IFrame at 0x7f5b0439b890>"
      ]
     },
     "execution_count": 11,
     "metadata": {},
     "output_type": "execute_result"
    }
   ],
   "source": [
    "start_time = timeit.default_timer()\n",
    "distributed_tree_traversal(test_mtg,Best_Fit_Clustering_Queue_1,\"top_down\")\n",
    "end_time = timeit.default_timer()\n",
    "print(\"Time: \",end_time - start_time,\" seconds\")\n",
    "IFrame(src='../data/plots/Best_Fit_Clustering_Queue_1_dependecy.html', width=1000, height=500)"
   ]
  },
  {
   "cell_type": "code",
   "execution_count": 12,
   "metadata": {},
   "outputs": [
    {
     "name": "stdout",
     "output_type": "stream",
     "text": [
      "Time it take for MPI  0.000378476000000072\n",
      "Time:  0.04671504796715453  seconds\n"
     ]
    },
    {
     "data": {
      "text/html": [
       "\n",
       "        <iframe\n",
       "            width=\"1000\"\n",
       "            height=\"500\"\n",
       "            src=\"../data/plots/Best_Fit_Clustering_Queue_1_dependecy.html\"\n",
       "            frameborder=\"0\"\n",
       "            allowfullscreen\n",
       "        ></iframe>\n",
       "        "
      ],
      "text/plain": [
       "<IPython.lib.display.IFrame at 0x7f5b0439b2d0>"
      ]
     },
     "execution_count": 12,
     "metadata": {},
     "output_type": "execute_result"
    }
   ],
   "source": [
    "start_time = timeit.default_timer()\n",
    "distributed_tree_traversal(test_mtg,Best_Fit_Clustering_Queue_1,\"bottom_up\")\n",
    "end_time = timeit.default_timer()\n",
    "print(\"Time: \",end_time - start_time,\" seconds\")\n",
    "IFrame(src='../data/plots/Best_Fit_Clustering_Queue_1_dependecy.html', width=1000, height=500)"
   ]
  },
  {
   "cell_type": "code",
   "execution_count": 13,
   "metadata": {},
   "outputs": [
    {
     "name": "stdout",
     "output_type": "stream",
     "text": [
      "Time it take for MPI  0.0003977449999998939\n",
      "Time:  0.03991824499098584  seconds\n"
     ]
    },
    {
     "data": {
      "text/html": [
       "\n",
       "        <iframe\n",
       "            width=\"1000\"\n",
       "            height=\"500\"\n",
       "            src=\"../data/plots/Best_Fit_Clustering_level_order_dependecy.html\"\n",
       "            frameborder=\"0\"\n",
       "            allowfullscreen\n",
       "        ></iframe>\n",
       "        "
      ],
      "text/plain": [
       "<IPython.lib.display.IFrame at 0x7f5b043a3a10>"
      ]
     },
     "execution_count": 13,
     "metadata": {},
     "output_type": "execute_result"
    }
   ],
   "source": [
    "start_time = timeit.default_timer()\n",
    "distributed_tree_traversal(test_mtg,Best_Fit_Clustering_level_order,\"top_down\")\n",
    "end_time = timeit.default_timer()\n",
    "print(\"Time: \",end_time - start_time,\" seconds\")\n",
    "IFrame(src='../data/plots/Best_Fit_Clustering_level_order_dependecy.html', width=1000, height=500)"
   ]
  },
  {
   "cell_type": "code",
   "execution_count": 14,
   "metadata": {},
   "outputs": [
    {
     "name": "stdout",
     "output_type": "stream",
     "text": [
      "Time it take for MPI  0.0003678030000000554\n",
      "Time:  0.04609755601268262  seconds\n"
     ]
    },
    {
     "data": {
      "text/html": [
       "\n",
       "        <iframe\n",
       "            width=\"1000\"\n",
       "            height=\"500\"\n",
       "            src=\"../data/plots/Best_Fit_Clustering_level_order_dependecy.html\"\n",
       "            frameborder=\"0\"\n",
       "            allowfullscreen\n",
       "        ></iframe>\n",
       "        "
      ],
      "text/plain": [
       "<IPython.lib.display.IFrame at 0x7f5b043712d0>"
      ]
     },
     "execution_count": 14,
     "metadata": {},
     "output_type": "execute_result"
    }
   ],
   "source": [
    "start_time = timeit.default_timer()\n",
    "distributed_tree_traversal(test_mtg,Best_Fit_Clustering_level_order,\"bottom_up\")\n",
    "end_time = timeit.default_timer()\n",
    "print(\"Time: \",end_time - start_time,\" seconds\")\n",
    "IFrame(src='../data/plots/Best_Fit_Clustering_level_order_dependecy.html', width=1000, height=500)"
   ]
  }
 ],
 "metadata": {
  "kernelspec": {
   "display_name": "Python 3",
   "language": "python",
   "name": "python3"
  },
  "language_info": {
   "codemirror_mode": {
    "name": "ipython",
    "version": 3
   },
   "file_extension": ".py",
   "mimetype": "text/x-python",
   "name": "python",
   "nbconvert_exporter": "python",
   "pygments_lexer": "ipython3",
   "version": "3.7.6"
  }
 },
 "nbformat": 4,
 "nbformat_minor": 4
}
