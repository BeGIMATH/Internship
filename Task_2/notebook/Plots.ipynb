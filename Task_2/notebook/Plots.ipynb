{
 "cells": [
  {
   "cell_type": "code",
   "execution_count": 5,
   "metadata": {},
   "outputs": [],
   "source": [
    "from openalea.mtg.mtg import *\n",
    "from openalea.mtg.algo import ancestors\n",
    "from openalea.mtg.io import *\n",
    "from openalea.mtg.traversal import *\n",
    "from scipy.stats import poisson, binom\n",
    "import os\n",
    "import timeit\n",
    "import sys\n",
    "from oawidgets.mtg import *\n",
    "from oawidgets.plantgl import PlantGL\n",
    "from openalea.mtg.draw import *\n",
    "import sys\n",
    "\n",
    "sys.path.append(\"../../Task_2/src/\")\n",
    "\n",
    "from algo_bench import *\n",
    "\n",
    "from oawidgets.mtg import plot\n",
    "from oawidgets.plantgl import PlantGL\n",
    "\n"
   ]
  },
  {
   "cell_type": "code",
   "execution_count": 6,
   "metadata": {},
   "outputs": [],
   "source": [
    "my_mtg = MTG()#'../data/noylum2.mtg')\n",
    "dist = poisson(1., loc=1).rvs\n",
    "\n",
    "vid = my_mtg.add_component(my_mtg.root)\n",
    "\n",
    "random_tree(my_mtg,vid,nb_children=dist,nb_vertices=99)\n",
    "\n",
    "\n",
    "p = 10\n"
   ]
  },
  {
   "cell_type": "code",
   "execution_count": 7,
   "metadata": {},
   "outputs": [
    {
     "name": "stdout",
     "output_type": "stream",
     "text": [
      "Clusters  {64: 0, 98: 0, 63: 0, 80: 0, 81: 0, 79: 0, 82: 0, 78: 0, 62: 0, 52: 0, 39: 1, 76: 1, 72: 1, 71: 1, 40: 1, 38: 1, 54: 1, 53: 1, 37: 1, 20: 1, 57: 2, 97: 2, 96: 2, 58: 2, 73: 2, 56: 2, 77: 2, 55: 2, 41: 2, 67: 3, 68: 3, 66: 3, 91: 3, 93: 3, 92: 3, 90: 3, 65: 3, 48: 3, 35: 4, 85: 4, 84: 4, 83: 4, 49: 4, 34: 4, 33: 4, 31: 4, 23: 4, 99: 5, 89: 5, 88: 5, 42: 5, 36: 5, 25: 5, 24: 5, 45: 5, 22: 5, 21: 5, 27: 6, 26: 6, 14: 6, 75: 6, 74: 6, 13: 6, 100: 6, 12: 6, 8: 6, 47: 7, 46: 7, 15: 7, 7: 7, 94: 7, 6: 7, 3: 7, 44: 7, 43: 7, 4: 7, 95: 8, 61: 8, 87: 8, 86: 8, 60: 8, 59: 8, 17: 8, 70: 8, 69: 8, 18: 8, 19: 9, 16: 9, 11: 9, 10: 9, 51: 9, 50: 9, 30: 9, 32: 9, 29: 9, 28: 9, 9: 9, 5: 9, 2: 9, 1: 9}\n",
      "Subtree roots  {52: 0, 20: 1, 41: 2, 48: 3, 23: 4, 21: 5, 8: 6, 3: 7, 4: 7, 17: 8, 18: 8, 1: 9}\n",
      "Maximal number of dependecies 3\n"
     ]
    }
   ],
   "source": [
    "\n",
    "\n",
    "\n",
    "t3 = timeit.default_timer()\n",
    "Best_Fit_Clustering_Queue(my_mtg,p,0.4)\n",
    "t4 = timeit.default_timer()\n",
    "\n",
    "print(\"Clusters \",my_mtg.property('cluster'))\n",
    "print(\"Subtree roots \",my_mtg.property('sub_tree'))\n",
    "tree = number_of_dependencies(my_mtg)\n",
    "my_mtg.remove_property('sub_tree')\n",
    "#print(\"Clusters as a dictionary \",my_mtg.property('cluster'))\n",
    "print(\"Maximal number of dependecies\",tree)\n",
    "\n"
   ]
  },
  {
   "cell_type": "code",
   "execution_count": 8,
   "metadata": {},
   "outputs": [
    {
     "data": {
      "text/html": [
       "\n",
       "        <iframe\n",
       "            width=\"900px\"\n",
       "            height=\"800px\"\n",
       "            src=\"mtg.html\"\n",
       "            frameborder=\"0\"\n",
       "            allowfullscreen\n",
       "        ></iframe>\n",
       "        "
      ],
      "text/plain": [
       "<IPython.lib.display.IFrame at 0x7f6780644d90>"
      ]
     },
     "execution_count": 8,
     "metadata": {},
     "output_type": "execute_result"
    }
   ],
   "source": [
    "plot_clusters_dict(my_mtg,nb_clusters=p)\n"
   ]
  },
  {
   "cell_type": "code",
   "execution_count": 9,
   "metadata": {},
   "outputs": [
    {
     "name": "stdout",
     "output_type": "stream",
     "text": [
      "Clusters  {64: 0, 98: 0, 63: 0, 80: 0, 81: 0, 79: 0, 82: 0, 78: 0, 62: 0, 52: 0, 39: 1, 76: 1, 72: 1, 71: 1, 40: 1, 38: 1, 54: 1, 53: 1, 37: 1, 20: 1, 57: 2, 97: 2, 96: 2, 58: 2, 73: 2, 56: 2, 77: 2, 55: 2, 41: 2, 67: 3, 68: 3, 66: 3, 91: 3, 93: 3, 92: 3, 90: 3, 65: 3, 48: 3, 35: 4, 85: 4, 84: 4, 83: 4, 49: 4, 34: 4, 33: 4, 31: 4, 23: 4, 99: 5, 89: 5, 88: 5, 42: 5, 36: 5, 25: 5, 24: 5, 45: 5, 22: 5, 21: 5, 27: 6, 26: 6, 14: 6, 75: 6, 74: 6, 13: 6, 100: 6, 12: 6, 8: 6, 47: 7, 46: 7, 15: 7, 7: 7, 94: 7, 6: 7, 3: 7, 44: 9, 43: 9, 4: 9, 95: 8, 61: 8, 87: 8, 86: 8, 60: 8, 59: 8, 17: 8, 70: 7, 69: 7, 18: 7, 19: 8, 16: 8, 11: 8, 10: 9, 51: 9, 50: 9, 30: 9, 32: 9, 29: 9, 28: 9, 9: 9, 5: 9, 2: 9, 1: 9}\n",
      "Subtree roots  {52: 0, 20: 1, 41: 2, 48: 3, 23: 4, 21: 5, 8: 6, 3: 7, 18: 7, 11: 8, 1: 9}\n",
      "Maximal number of dependecies 4\n"
     ]
    }
   ],
   "source": [
    "t3 = timeit.default_timer()\n",
    "Best_Fit_Clustering_Paper(my_mtg,p,0.4)\n",
    "t4 = timeit.default_timer()\n",
    "\n",
    "\n",
    "print(\"Clusters \",my_mtg.property('cluster'))\n",
    "print(\"Subtree roots \",my_mtg.property('sub_tree'))\n",
    "tree = number_of_dependencies(my_mtg)\n",
    "my_mtg.remove_property('sub_tree')\n",
    "#print(\"Clusters as a dictionary \",my_mtg.property('cluster'))\n",
    "print(\"Maximal number of dependecies\",tree)\n",
    "\n"
   ]
  },
  {
   "cell_type": "code",
   "execution_count": 10,
   "metadata": {},
   "outputs": [
    {
     "data": {
      "text/html": [
       "\n",
       "        <iframe\n",
       "            width=\"900px\"\n",
       "            height=\"800px\"\n",
       "            src=\"mtg.html\"\n",
       "            frameborder=\"0\"\n",
       "            allowfullscreen\n",
       "        ></iframe>\n",
       "        "
      ],
      "text/plain": [
       "<IPython.lib.display.IFrame at 0x7f674a3aa090>"
      ]
     },
     "execution_count": 10,
     "metadata": {},
     "output_type": "execute_result"
    }
   ],
   "source": [
    "plot_clusters_dict(my_mtg,nb_clusters=10)"
   ]
  },
  {
   "cell_type": "code",
   "execution_count": 11,
   "metadata": {},
   "outputs": [
    {
     "name": "stdout",
     "output_type": "stream",
     "text": [
      "Clusters  {64: 4, 98: 4, 63: 4, 80: 4, 81: 3, 79: 4, 82: 3, 78: 3, 62: 4, 52: 4, 39: 5, 76: 5, 72: 5, 71: 5, 40: 5, 38: 5, 54: 4, 53: 4, 37: 4, 20: 5, 57: 2, 97: 1, 96: 1, 58: 2, 73: 2, 56: 2, 77: 2, 55: 2, 41: 2, 67: 0, 68: 0, 66: 0, 91: 0, 93: 0, 92: 0, 90: 0, 65: 0, 48: 0, 35: 1, 85: 1, 84: 1, 83: 0, 49: 1, 34: 1, 33: 1, 31: 1, 23: 1, 99: 2, 89: 2, 88: 2, 42: 3, 36: 3, 25: 3, 24: 3, 45: 3, 22: 3, 21: 3, 27: 7, 26: 7, 14: 7, 75: 7, 74: 7, 13: 7, 100: 7, 12: 7, 8: 7, 47: 9, 46: 9, 15: 9, 7: 9, 94: 9, 6: 9, 3: 9, 44: 8, 43: 8, 4: 9, 95: 6, 61: 6, 87: 6, 86: 5, 60: 6, 59: 6, 17: 6, 70: 6, 69: 6, 18: 6, 19: 5, 16: 5, 11: 6, 10: 7, 51: 8, 50: 8, 30: 8, 32: 8, 29: 8, 28: 8, 9: 8, 5: 8, 2: 9, 1: 9}\n",
      "Subtree roots  {48: 0, 83: 0, 49: 1, 34: 1, 35: 1, 33: 1, 31: 1, 23: 1, 97: 1, 41: 2, 88: 2, 42: 3, 36: 3, 25: 3, 24: 3, 22: 3, 21: 3, 81: 3, 52: 4, 54: 4, 53: 4, 37: 4, 40: 5, 39: 5, 38: 5, 20: 5, 19: 5, 16: 5, 86: 5, 17: 6, 18: 6, 11: 6, 10: 7, 8: 7, 9: 8, 5: 8, 44: 8, 4: 9, 2: 9, 3: 9, 1: 9}\n",
      "Maximal number of dependecies 7\n"
     ]
    }
   ],
   "source": [
    "t3 = timeit.default_timer()\n",
    "First_Fit_Clustering_Paper(my_mtg,p)\n",
    "t4 = timeit.default_timer()\n",
    "\n",
    "\n",
    "print(\"Clusters \",my_mtg.property('cluster'))\n",
    "print(\"Subtree roots \",my_mtg.property('sub_tree'))\n",
    "tree = number_of_dependencies(my_mtg)\n",
    "my_mtg.remove_property('sub_tree')\n",
    "#print(\"Clusters as a dictionary \",my_mtg.property('cluster'))\n",
    "print(\"Maximal number of dependecies\",tree)\n",
    "\n",
    "\n",
    "\n"
   ]
  },
  {
   "cell_type": "code",
   "execution_count": 12,
   "metadata": {},
   "outputs": [
    {
     "data": {
      "text/html": [
       "\n",
       "        <iframe\n",
       "            width=\"900px\"\n",
       "            height=\"800px\"\n",
       "            src=\"mtg.html\"\n",
       "            frameborder=\"0\"\n",
       "            allowfullscreen\n",
       "        ></iframe>\n",
       "        "
      ],
      "text/plain": [
       "<IPython.lib.display.IFrame at 0x7f674a337910>"
      ]
     },
     "execution_count": 12,
     "metadata": {},
     "output_type": "execute_result"
    }
   ],
   "source": [
    "plot_clusters_dict(my_mtg,nb_clusters=p)"
   ]
  },
  {
   "cell_type": "code",
   "execution_count": 13,
   "metadata": {},
   "outputs": [
    {
     "name": "stdout",
     "output_type": "stream",
     "text": [
      "Clusters  {64: 3, 98: 3, 63: 3, 80: 3, 81: 3, 79: 3, 82: 3, 78: 3, 62: 3, 52: 3, 39: 4, 76: 4, 72: 4, 71: 4, 40: 4, 38: 4, 54: 3, 53: 3, 37: 3, 20: 4, 57: 0, 97: 0, 96: 0, 58: 0, 73: 0, 56: 0, 77: 0, 55: 0, 41: 0, 67: 1, 68: 1, 66: 1, 91: 1, 93: 1, 92: 1, 90: 1, 65: 1, 48: 1, 35: 2, 85: 1, 84: 1, 83: 1, 49: 1, 34: 1, 33: 2, 31: 2, 23: 2, 99: 0, 89: 0, 88: 0, 42: 0, 36: 0, 25: 2, 24: 2, 45: 2, 22: 2, 21: 2, 27: 6, 26: 6, 14: 6, 75: 6, 74: 6, 13: 6, 100: 6, 12: 6, 8: 6, 47: 9, 46: 9, 15: 9, 7: 9, 94: 9, 6: 9, 3: 9, 44: 7, 43: 7, 4: 7, 95: 5, 61: 5, 87: 5, 86: 5, 60: 5, 59: 5, 17: 5, 70: 5, 69: 5, 18: 5, 19: 4, 16: 4, 11: 5, 10: 5, 51: 7, 50: 7, 30: 7, 32: 7, 29: 7, 28: 7, 9: 7, 5: 7, 2: 7, 1: 9, None: 8}\n",
      "Subtree roots  {36: 0, 34: 1, 21: 2, 37: 3, 16: 4, 10: 5, 8: 6, 2: 7, None: 8, 1: 9}\n",
      "Maximal number of dependecies 5\n"
     ]
    }
   ],
   "source": [
    "t3 = timeit.default_timer()\n",
    "Best_Fit_Clustering_Queue_1(my_mtg,p,0.4)\n",
    "t4 = timeit.default_timer()\n",
    "\n",
    "\n",
    "\n",
    "print(\"Clusters \",my_mtg.property('cluster'))\n",
    "print(\"Subtree roots \",my_mtg.property('sub_tree'))\n",
    "tree = number_of_dependencies(my_mtg)\n",
    "my_mtg.remove_property('sub_tree')\n",
    "#print(\"Clusters as a dictionary \",my_mtg.property('cluster'))\n",
    "print(\"Maximal number of dependecies\",tree)\n",
    "\n",
    "\n"
   ]
  },
  {
   "cell_type": "code",
   "execution_count": 14,
   "metadata": {},
   "outputs": [
    {
     "data": {
      "text/html": [
       "\n",
       "        <iframe\n",
       "            width=\"900px\"\n",
       "            height=\"800px\"\n",
       "            src=\"mtg.html\"\n",
       "            frameborder=\"0\"\n",
       "            allowfullscreen\n",
       "        ></iframe>\n",
       "        "
      ],
      "text/plain": [
       "<IPython.lib.display.IFrame at 0x7f674a3372d0>"
      ]
     },
     "execution_count": 14,
     "metadata": {},
     "output_type": "execute_result"
    }
   ],
   "source": [
    "plot_clusters_dict(my_mtg,nb_clusters=p)"
   ]
  },
  {
   "cell_type": "code",
   "execution_count": 15,
   "metadata": {},
   "outputs": [
    {
     "name": "stdout",
     "output_type": "stream",
     "text": [
      "Clusters  {64: 1, 98: 1, 63: 1, 80: 1, 81: 1, 79: 1, 82: 1, 78: 1, 62: 1, 52: 1, 39: 5, 76: 5, 72: 5, 71: 5, 40: 5, 38: 5, 54: 1, 53: 1, 37: 1, 20: 5, 57: 2, 97: 2, 96: 2, 58: 2, 73: 2, 56: 2, 77: 2, 55: 2, 41: 2, 67: 3, 68: 3, 66: 3, 91: 3, 93: 3, 92: 3, 90: 3, 65: 3, 48: 3, 35: 4, 85: 3, 84: 3, 83: 3, 49: 3, 34: 3, 33: 4, 31: 4, 23: 4, 99: 2, 89: 2, 88: 2, 42: 2, 36: 2, 25: 4, 24: 4, 45: 4, 22: 4, 21: 4, 27: 0, 26: 0, 14: 0, 75: 0, 74: 0, 13: 0, 100: 0, 12: 0, 8: 0, 47: 9, 46: 9, 15: 9, 7: 9, 94: 9, 6: 9, 3: 9, 44: 7, 43: 7, 4: 7, 95: 6, 61: 6, 87: 6, 86: 6, 60: 6, 59: 6, 17: 6, 70: 6, 69: 6, 18: 6, 19: 5, 16: 5, 11: 6, 10: 6, 51: 7, 50: 7, 30: 7, 32: 7, 29: 7, 28: 7, 9: 7, 5: 7, 2: 7, 1: 9, None: 8}\n",
      "Subtree roots  {8: 0, 37: 1, 36: 2, 34: 3, 21: 4, 16: 5, 10: 6, 2: 7, None: 8, 1: 9}\n",
      "Maximal number of dependecies 5\n"
     ]
    }
   ],
   "source": [
    "t3 = timeit.default_timer()\n",
    "Best_Fit_Clustering_No_Queue(my_mtg,p,0.4)\n",
    "t4 = timeit.default_timer()\n",
    "\n",
    "print(\"Clusters \",my_mtg.property('cluster'))\n",
    "print(\"Subtree roots \",my_mtg.property('sub_tree'))\n",
    "tree = number_of_dependencies(my_mtg)\n",
    "my_mtg.remove_property('sub_tree')\n",
    "#print(\"Clusters as a dictionary \",my_mtg.property('cluster'))\n",
    "print(\"Maximal number of dependecies\",tree)\n",
    "\n"
   ]
  },
  {
   "cell_type": "code",
   "execution_count": 16,
   "metadata": {},
   "outputs": [
    {
     "data": {
      "text/html": [
       "\n",
       "        <iframe\n",
       "            width=\"900px\"\n",
       "            height=\"800px\"\n",
       "            src=\"mtg.html\"\n",
       "            frameborder=\"0\"\n",
       "            allowfullscreen\n",
       "        ></iframe>\n",
       "        "
      ],
      "text/plain": [
       "<IPython.lib.display.IFrame at 0x7f674a352c10>"
      ]
     },
     "execution_count": 16,
     "metadata": {},
     "output_type": "execute_result"
    }
   ],
   "source": [
    "plot_clusters_dict(my_mtg,nb_clusters=p)"
   ]
  },
  {
   "cell_type": "code",
   "execution_count": null,
   "metadata": {},
   "outputs": [],
   "source": [
    "t3 = timeit.default_timer()\n",
    "Best_Fit_Clustering_No_Queue_1(my_mtg,p,0.4)\n",
    "t4 = timeit.default_timer()\n",
    "\n",
    "print(\"Clusters \",my_mtg.property('cluster'))\n",
    "print(\"Subtree roots \",my_mtg.property('sub_tree'))\n",
    "tree = number_of_dependencies(my_mtg)\n",
    "my_mtg.remove_property('sub_tree')\n",
    "#print(\"Clusters as a dictionary \",my_mtg.property('cluster'))\n",
    "print(\"Maximal number of dependecies\",tree)\n",
    "\n",
    "\n"
   ]
  },
  {
   "cell_type": "code",
   "execution_count": null,
   "metadata": {},
   "outputs": [],
   "source": [
    "plot_clusters_dict(my_mtg,nb_clusters=p)"
   ]
  }
 ],
 "metadata": {
  "kernelspec": {
   "display_name": "Python 3",
   "language": "python",
   "name": "python3"
  },
  "language_info": {
   "codemirror_mode": {
    "name": "ipython",
    "version": 3
   },
   "file_extension": ".py",
   "mimetype": "text/x-python",
   "name": "python",
   "nbconvert_exporter": "python",
   "pygments_lexer": "ipython3",
   "version": "3.7.6"
  }
 },
 "nbformat": 4,
 "nbformat_minor": 4
}
