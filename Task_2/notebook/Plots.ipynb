{
 "cells": [
  {
   "cell_type": "code",
   "execution_count": 9,
   "metadata": {},
   "outputs": [],
   "source": [
    "from openalea.mtg.mtg import *\n",
    "from openalea.mtg.algo import ancestors\n",
    "from openalea.mtg.io import *\n",
    "from openalea.mtg.traversal import *\n",
    "from scipy.stats import poisson, binom\n",
    "import os\n",
    "import timeit\n",
    "import sys\n",
    "from oawidgets.mtg import *\n",
    "from oawidgets.plantgl import PlantGL\n",
    "from openalea.mtg.draw import *\n",
    "import sys\n",
    "\n",
    "sys.path.append(\"../../Task_2/src/\")\n",
    "\n",
    "from algo_bench import *\n",
    "\n",
    "from oawidgets.mtg import plot\n",
    "from oawidgets.plantgl import PlantGL\n",
    "\n"
   ]
  },
  {
   "cell_type": "code",
   "execution_count": 10,
   "metadata": {},
   "outputs": [],
   "source": [
    "my_mtg = MTG()#'../data/noylum2.mtg')\n",
    "dist = poisson(1., loc=1).rvs\n",
    "\n",
    "vid = my_mtg.add_component(my_mtg.root)\n",
    "\n",
    "random_tree(my_mtg,vid,nb_children=dist,nb_vertices=99)\n",
    "\n",
    "\n",
    "p = 10\n"
   ]
  },
  {
   "cell_type": "code",
   "execution_count": 11,
   "metadata": {},
   "outputs": [
    {
     "name": "stdout",
     "output_type": "stream",
     "text": [
      "Clusters  {65: 0, 22: 0, 63: 0, 32: 0, 31: 0, 25: 0, 21: 0, 20: 0, 5: 0, 58: 1, 73: 1, 92: 1, 91: 1, 72: 1, 71: 1, 57: 1, 29: 1, 24: 1, 16: 1, 35: 2, 28: 2, 79: 2, 70: 2, 30: 2, 27: 2, 86: 2, 26: 2, 7: 2, 23: 3, 13: 3, 77: 3, 78: 3, 76: 3, 75: 3, 17: 3, 12: 3, 11: 3, 83: 4, 82: 4, 42: 4, 41: 4, 40: 4, 33: 4, 62: 4, 64: 4, 61: 4, 50: 4, 94: 5, 93: 5, 90: 5, 34: 5, 15: 5, 56: 5, 39: 5, 14: 5, 8: 5, 89: 6, 88: 6, 87: 6, 85: 6, 84: 6, 46: 6, 100: 6, 99: 6, 51: 6, 53: 7, 97: 7, 98: 7, 96: 7, 95: 7, 54: 7, 52: 7, 47: 7, 55: 7, 36: 7, 49: 8, 68: 8, 69: 8, 67: 8, 66: 8, 48: 8, 45: 8, 44: 8, 43: 8, 38: 8, 74: 9, 60: 9, 81: 9, 80: 9, 59: 9, 37: 9, 6: 9, 4: 9, 10: 9, 19: 9, 18: 9, 9: 9, 3: 9, 2: 9, 1: 9}\n",
      "Subtree roots  {5: 0, 29: 1, 16: 1, 7: 2, 11: 3, 33: 4, 50: 4, 8: 5, 46: 6, 51: 6, 47: 7, 36: 7, 38: 8, 1: 9}\n",
      "Depth  1\n",
      "Depth  1\n",
      "Depth  2\n",
      "Depth  1\n",
      "Depth  2\n",
      "Depth  1\n",
      "Depth  1\n",
      "Depth  1\n",
      "Depth  2\n",
      "Depth  1\n",
      "Depth  2\n",
      "Depth  1\n",
      "Depth  1\n",
      "Depth  2\n",
      "Depth  1\n",
      "Depth  2\n",
      "Depth  3\n",
      "Depth  1\n",
      "Depth  2\n",
      "Depth  1\n",
      "Depth  1\n",
      "Maximal number of dependecies 3\n"
     ]
    }
   ],
   "source": [
    "\n",
    "\n",
    "\n",
    "t3 = timeit.default_timer()\n",
    "Best_Fit_Clustering_Queue(my_mtg,p,0.4)\n",
    "t4 = timeit.default_timer()\n",
    "\n",
    "print(\"Clusters \",my_mtg.property('cluster'))\n",
    "print(\"Subtree roots \",my_mtg.property('sub_tree'))\n",
    "tree = number_of_dependencies(my_mtg)\n",
    "my_mtg.remove_property('sub_tree')\n",
    "#print(\"Clusters as a dictionary \",my_mtg.property('cluster'))\n",
    "print(\"Maximal number of dependecies\",tree)\n",
    "\n"
   ]
  },
  {
   "cell_type": "code",
   "execution_count": 12,
   "metadata": {},
   "outputs": [
    {
     "data": {
      "text/html": [
       "\n",
       "        <iframe\n",
       "            width=\"900px\"\n",
       "            height=\"800px\"\n",
       "            src=\"mtg.html\"\n",
       "            frameborder=\"0\"\n",
       "            allowfullscreen\n",
       "        ></iframe>\n",
       "        "
      ],
      "text/plain": [
       "<IPython.lib.display.IFrame at 0x7fd094d16d10>"
      ]
     },
     "execution_count": 12,
     "metadata": {},
     "output_type": "execute_result"
    }
   ],
   "source": [
    "plot_clusters_dict(my_mtg,nb_clusters=p)\n"
   ]
  },
  {
   "cell_type": "code",
   "execution_count": 13,
   "metadata": {},
   "outputs": [
    {
     "name": "stdout",
     "output_type": "stream",
     "text": [
      "Clusters  {65: 0, 22: 0, 63: 0, 32: 0, 31: 0, 25: 0, 21: 0, 20: 0, 5: 0, 58: 1, 73: 1, 92: 6, 91: 6, 72: 6, 71: 1, 57: 1, 29: 1, 24: 2, 16: 2, 35: 3, 28: 3, 79: 1, 70: 1, 30: 7, 27: 7, 86: 7, 26: 7, 7: 7, 23: 3, 13: 3, 77: 2, 78: 2, 76: 2, 75: 2, 17: 2, 12: 2, 11: 3, 83: 4, 82: 4, 42: 4, 41: 4, 40: 4, 33: 4, 62: 5, 64: 5, 61: 5, 50: 5, 94: 4, 93: 4, 90: 4, 34: 4, 15: 7, 56: 2, 39: 2, 14: 7, 8: 7, 89: 5, 88: 5, 87: 5, 85: 5, 84: 5, 46: 5, 100: 8, 99: 8, 51: 8, 53: 9, 97: 8, 98: 8, 96: 8, 95: 8, 54: 8, 52: 9, 47: 9, 55: 8, 36: 8, 49: 9, 68: 7, 69: 7, 67: 7, 66: 7, 48: 7, 45: 9, 44: 9, 43: 9, 38: 9, 74: 6, 60: 6, 81: 6, 80: 6, 59: 6, 37: 6, 6: 9, 4: 9, 10: 3, 19: 3, 18: 3, 9: 3, 3: 3, 2: 9, 1: 9}\n",
      "Subtree roots  {5: 0, 29: 1, 70: 1, 12: 2, 39: 2, 3: 3, 28: 3, 33: 4, 34: 4, 46: 5, 50: 5, 37: 6, 72: 6, 48: 7, 8: 7, 7: 7, 54: 8, 51: 8, 36: 8, 1: 9}\n",
      "Depth  1\n",
      "Depth  1\n",
      "Depth  2\n",
      "Depth  1\n",
      "Depth  2\n",
      "Depth  1\n",
      "Depth  2\n",
      "Depth  1\n",
      "Depth  2\n",
      "Depth  1\n",
      "Depth  1\n",
      "Depth  2\n",
      "Depth  1\n",
      "Depth  2\n",
      "Depth  1\n",
      "Depth  2\n",
      "Depth  1\n",
      "Depth  1\n",
      "Depth  1\n",
      "Depth  1\n",
      "Depth  2\n",
      "Depth  3\n",
      "Depth  1\n",
      "Depth  1\n",
      "Depth  1\n",
      "Depth  1\n",
      "Depth  1\n",
      "Depth  1\n",
      "Maximal number of dependecies 3\n"
     ]
    }
   ],
   "source": [
    "t3 = timeit.default_timer()\n",
    "Best_Fit_Clustering_Paper(my_mtg,p,0.4)\n",
    "t4 = timeit.default_timer()\n",
    "\n",
    "\n",
    "print(\"Clusters \",my_mtg.property('cluster'))\n",
    "print(\"Subtree roots \",my_mtg.property('sub_tree'))\n",
    "tree = number_of_dependencies(my_mtg)\n",
    "my_mtg.remove_property('sub_tree')\n",
    "#print(\"Clusters as a dictionary \",my_mtg.property('cluster'))\n",
    "print(\"Maximal number of dependecies\",tree)\n",
    "\n"
   ]
  },
  {
   "cell_type": "code",
   "execution_count": 14,
   "metadata": {},
   "outputs": [
    {
     "data": {
      "text/html": [
       "\n",
       "        <iframe\n",
       "            width=\"900px\"\n",
       "            height=\"800px\"\n",
       "            src=\"mtg.html\"\n",
       "            frameborder=\"0\"\n",
       "            allowfullscreen\n",
       "        ></iframe>\n",
       "        "
      ],
      "text/plain": [
       "<IPython.lib.display.IFrame at 0x7fd0609f4310>"
      ]
     },
     "execution_count": 14,
     "metadata": {},
     "output_type": "execute_result"
    }
   ],
   "source": [
    "plot_clusters_dict(my_mtg,nb_clusters=10)"
   ]
  },
  {
   "cell_type": "code",
   "execution_count": 15,
   "metadata": {},
   "outputs": [
    {
     "name": "stdout",
     "output_type": "stream",
     "text": [
      "Clusters  {65: 7, 22: 7, 63: 7, 32: 7, 31: 7, 25: 7, 21: 7, 20: 7, 5: 8, 58: 4, 73: 4, 92: 4, 91: 4, 72: 4, 71: 4, 57: 4, 29: 4, 24: 8, 16: 8, 35: 5, 28: 5, 79: 4, 70: 4, 30: 5, 27: 5, 86: 5, 26: 5, 7: 5, 23: 9, 13: 9, 77: 8, 78: 8, 76: 8, 75: 8, 17: 8, 12: 8, 11: 9, 83: 5, 82: 5, 42: 5, 41: 6, 40: 6, 33: 6, 62: 1, 64: 1, 61: 1, 50: 1, 94: 6, 93: 6, 90: 6, 34: 6, 15: 6, 56: 6, 39: 6, 14: 7, 8: 7, 89: 2, 88: 2, 87: 2, 85: 2, 84: 2, 46: 2, 100: 0, 99: 0, 51: 0, 53: 0, 97: 0, 98: 0, 96: 0, 95: 0, 54: 0, 52: 0, 47: 1, 55: 3, 36: 3, 49: 2, 68: 1, 69: 1, 67: 1, 66: 1, 48: 1, 45: 2, 44: 2, 43: 2, 38: 3, 74: 3, 60: 3, 81: 3, 80: 3, 59: 3, 37: 3, 6: 3, 4: 8, 10: 9, 19: 9, 18: 9, 9: 9, 3: 9, 2: 9, 1: 9}\n",
      "Subtree roots  {54: 0, 51: 0, 53: 0, 52: 0, 47: 1, 48: 1, 50: 1, 49: 2, 45: 2, 46: 2, 43: 2, 44: 2, 38: 3, 37: 3, 36: 3, 6: 3, 29: 4, 70: 4, 30: 5, 27: 5, 28: 5, 26: 5, 7: 5, 42: 5, 33: 6, 34: 6, 15: 6, 39: 6, 14: 7, 8: 7, 20: 7, 5: 8, 4: 8, 12: 8, 13: 9, 11: 9, 9: 9, 10: 9, 3: 9, 2: 9, 1: 9}\n",
      "Depth  1\n",
      "Depth  2\n",
      "Depth  3\n",
      "Depth  4\n",
      "Depth  5\n",
      "Depth  1\n",
      "Depth  2\n",
      "Depth  3\n",
      "Depth  4\n",
      "Depth  5\n",
      "Depth  1\n",
      "Depth  2\n",
      "Depth  3\n",
      "Depth  4\n",
      "Depth  5\n",
      "Depth  1\n",
      "Depth  2\n",
      "Depth  3\n",
      "Depth  4\n",
      "Depth  5\n",
      "Depth  1\n",
      "Depth  2\n",
      "Depth  3\n",
      "Depth  4\n",
      "Depth  1\n",
      "Depth  2\n",
      "Depth  3\n",
      "Depth  4\n",
      "Depth  1\n",
      "Depth  2\n",
      "Depth  3\n",
      "Depth  4\n",
      "Depth  1\n",
      "Depth  2\n",
      "Depth  3\n",
      "Depth  1\n",
      "Depth  2\n",
      "Depth  3\n",
      "Depth  1\n",
      "Depth  2\n",
      "Depth  3\n",
      "Depth  1\n",
      "Depth  2\n",
      "Depth  3\n",
      "Depth  1\n",
      "Depth  2\n",
      "Depth  3\n",
      "Depth  1\n",
      "Depth  2\n",
      "Depth  1\n",
      "Depth  2\n",
      "Depth  1\n",
      "Depth  2\n",
      "Depth  1\n",
      "Depth  2\n",
      "Depth  1\n",
      "Depth  2\n",
      "Depth  3\n",
      "Depth  1\n",
      "Depth  2\n",
      "Depth  3\n",
      "Depth  1\n",
      "Depth  2\n",
      "Depth  1\n",
      "Depth  2\n",
      "Depth  1\n",
      "Depth  2\n",
      "Depth  1\n",
      "Depth  2\n",
      "Depth  1\n",
      "Depth  2\n",
      "Depth  1\n",
      "Depth  2\n",
      "Depth  3\n",
      "Depth  4\n",
      "Depth  1\n",
      "Depth  2\n",
      "Depth  3\n",
      "Depth  1\n",
      "Depth  2\n",
      "Depth  3\n",
      "Depth  1\n",
      "Depth  2\n",
      "Depth  3\n",
      "Depth  1\n",
      "Depth  2\n",
      "Depth  3\n",
      "Depth  1\n",
      "Depth  2\n",
      "Depth  1\n",
      "Depth  2\n",
      "Depth  1\n",
      "Depth  2\n",
      "Depth  1\n",
      "Depth  1\n",
      "Depth  1\n",
      "Maximal number of dependecies 5\n"
     ]
    }
   ],
   "source": [
    "t3 = timeit.default_timer()\n",
    "First_Fit_Clustering_Paper(my_mtg,p)\n",
    "t4 = timeit.default_timer()\n",
    "\n",
    "\n",
    "print(\"Clusters \",my_mtg.property('cluster'))\n",
    "print(\"Subtree roots \",my_mtg.property('sub_tree'))\n",
    "tree = number_of_dependencies(my_mtg)\n",
    "my_mtg.remove_property('sub_tree')\n",
    "#print(\"Clusters as a dictionary \",my_mtg.property('cluster'))\n",
    "print(\"Maximal number of dependecies\",tree)\n",
    "\n",
    "\n",
    "\n"
   ]
  },
  {
   "cell_type": "code",
   "execution_count": 8,
   "metadata": {},
   "outputs": [
    {
     "data": {
      "text/html": [
       "\n",
       "        <iframe\n",
       "            width=\"900px\"\n",
       "            height=\"800px\"\n",
       "            src=\"mtg.html\"\n",
       "            frameborder=\"0\"\n",
       "            allowfullscreen\n",
       "        ></iframe>\n",
       "        "
      ],
      "text/plain": [
       "<IPython.lib.display.IFrame at 0x7fd060a90950>"
      ]
     },
     "execution_count": 8,
     "metadata": {},
     "output_type": "execute_result"
    }
   ],
   "source": [
    "plot_clusters_dict(my_mtg,nb_clusters=p)"
   ]
  },
  {
   "cell_type": "code",
   "execution_count": 13,
   "metadata": {},
   "outputs": [
    {
     "name": "stdout",
     "output_type": "stream",
     "text": [
      "Clusters  {64: 3, 98: 3, 63: 3, 80: 3, 81: 3, 79: 3, 82: 3, 78: 3, 62: 3, 52: 3, 39: 4, 76: 4, 72: 4, 71: 4, 40: 4, 38: 4, 54: 3, 53: 3, 37: 3, 20: 4, 57: 0, 97: 0, 96: 0, 58: 0, 73: 0, 56: 0, 77: 0, 55: 0, 41: 0, 67: 1, 68: 1, 66: 1, 91: 1, 93: 1, 92: 1, 90: 1, 65: 1, 48: 1, 35: 2, 85: 1, 84: 1, 83: 1, 49: 1, 34: 1, 33: 2, 31: 2, 23: 2, 99: 0, 89: 0, 88: 0, 42: 0, 36: 0, 25: 2, 24: 2, 45: 2, 22: 2, 21: 2, 27: 6, 26: 6, 14: 6, 75: 6, 74: 6, 13: 6, 100: 6, 12: 6, 8: 6, 47: 9, 46: 9, 15: 9, 7: 9, 94: 9, 6: 9, 3: 9, 44: 7, 43: 7, 4: 7, 95: 5, 61: 5, 87: 5, 86: 5, 60: 5, 59: 5, 17: 5, 70: 5, 69: 5, 18: 5, 19: 4, 16: 4, 11: 5, 10: 5, 51: 7, 50: 7, 30: 7, 32: 7, 29: 7, 28: 7, 9: 7, 5: 7, 2: 7, 1: 9, None: 8}\n",
      "Subtree roots  {36: 0, 34: 1, 21: 2, 37: 3, 16: 4, 10: 5, 8: 6, 2: 7, None: 8, 1: 9}\n",
      "Maximal number of dependecies 5\n"
     ]
    }
   ],
   "source": [
    "t3 = timeit.default_timer()\n",
    "Best_Fit_Clustering_Queue_1(my_mtg,p,0.4)\n",
    "t4 = timeit.default_timer()\n",
    "\n",
    "\n",
    "\n",
    "print(\"Clusters \",my_mtg.property('cluster'))\n",
    "print(\"Subtree roots \",my_mtg.property('sub_tree'))\n",
    "tree = number_of_dependencies(my_mtg)\n",
    "my_mtg.remove_property('sub_tree')\n",
    "#print(\"Clusters as a dictionary \",my_mtg.property('cluster'))\n",
    "print(\"Maximal number of dependecies\",tree)\n",
    "\n",
    "\n"
   ]
  },
  {
   "cell_type": "code",
   "execution_count": 14,
   "metadata": {},
   "outputs": [
    {
     "data": {
      "text/html": [
       "\n",
       "        <iframe\n",
       "            width=\"900px\"\n",
       "            height=\"800px\"\n",
       "            src=\"mtg.html\"\n",
       "            frameborder=\"0\"\n",
       "            allowfullscreen\n",
       "        ></iframe>\n",
       "        "
      ],
      "text/plain": [
       "<IPython.lib.display.IFrame at 0x7f674a3372d0>"
      ]
     },
     "execution_count": 14,
     "metadata": {},
     "output_type": "execute_result"
    }
   ],
   "source": [
    "plot_clusters_dict(my_mtg,nb_clusters=p)"
   ]
  },
  {
   "cell_type": "code",
   "execution_count": 17,
   "metadata": {},
   "outputs": [
    {
     "name": "stdout",
     "output_type": "stream",
     "text": [
      "Clusters  {64: 1, 98: 1, 63: 1, 80: 1, 81: 1, 79: 1, 82: 1, 78: 1, 62: 1, 52: 1, 39: 5, 76: 5, 72: 5, 71: 5, 40: 5, 38: 5, 54: 1, 53: 1, 37: 1, 20: 5, 57: 2, 97: 2, 96: 2, 58: 2, 73: 2, 56: 2, 77: 2, 55: 2, 41: 2, 67: 3, 68: 3, 66: 3, 91: 3, 93: 3, 92: 3, 90: 3, 65: 3, 48: 3, 35: 4, 85: 3, 84: 3, 83: 3, 49: 3, 34: 3, 33: 4, 31: 4, 23: 4, 99: 2, 89: 2, 88: 2, 42: 2, 36: 2, 25: 4, 24: 4, 45: 4, 22: 4, 21: 4, 27: 0, 26: 0, 14: 0, 75: 0, 74: 0, 13: 0, 100: 0, 12: 0, 8: 0, 47: 9, 46: 9, 15: 9, 7: 9, 94: 9, 6: 9, 3: 9, 44: 7, 43: 7, 4: 7, 95: 6, 61: 6, 87: 6, 86: 6, 60: 6, 59: 6, 17: 6, 70: 6, 69: 6, 18: 6, 19: 5, 16: 5, 11: 6, 10: 6, 51: 7, 50: 7, 30: 7, 32: 7, 29: 7, 28: 7, 9: 7, 5: 7, 2: 7, 1: 9, None: 8}\n",
      "Subtree roots  {8: 0, 37: 1, 36: 2, 34: 3, 21: 4, 16: 5, 10: 6, 2: 7, None: 8, 1: 9}\n",
      "Maximal number of dependecies 5\n"
     ]
    }
   ],
   "source": [
    "t3 = timeit.default_timer()\n",
    "Best_Fit_Clustering_No_Queue(my_mtg,p,0.4)\n",
    "t4 = timeit.default_timer()\n",
    "\n",
    "print(\"Clusters \",my_mtg.property('cluster'))\n",
    "print(\"Subtree roots \",my_mtg.property('sub_tree'))\n",
    "tree = number_of_dependencies(my_mtg)\n",
    "my_mtg.remove_property('sub_tree')\n",
    "#print(\"Clusters as a dictionary \",my_mtg.property('cluster'))\n",
    "print(\"Maximal number of dependecies\",tree)\n",
    "\n"
   ]
  },
  {
   "cell_type": "code",
   "execution_count": 18,
   "metadata": {},
   "outputs": [
    {
     "data": {
      "text/html": [
       "\n",
       "        <iframe\n",
       "            width=\"900px\"\n",
       "            height=\"800px\"\n",
       "            src=\"mtg.html\"\n",
       "            frameborder=\"0\"\n",
       "            allowfullscreen\n",
       "        ></iframe>\n",
       "        "
      ],
      "text/plain": [
       "<IPython.lib.display.IFrame at 0x7f674a393710>"
      ]
     },
     "execution_count": 18,
     "metadata": {},
     "output_type": "execute_result"
    }
   ],
   "source": [
    "plot_clusters_dict(my_mtg,nb_clusters=p)"
   ]
  },
  {
   "cell_type": "code",
   "execution_count": 19,
   "metadata": {},
   "outputs": [
    {
     "name": "stdout",
     "output_type": "stream",
     "text": [
      "Clusters  {64: 1, 98: 1, 63: 1, 80: 1, 81: 1, 79: 1, 82: 1, 78: 1, 62: 1, 52: 1, 39: 6, 76: 6, 72: 6, 71: 6, 40: 6, 38: 6, 54: 1, 53: 1, 37: 1, 20: 6, 57: 2, 97: 2, 96: 2, 58: 2, 73: 2, 56: 2, 77: 2, 55: 2, 41: 2, 67: 3, 68: 3, 66: 3, 91: 3, 93: 3, 92: 3, 90: 3, 65: 3, 48: 3, 35: 5, 85: 3, 84: 3, 83: 3, 49: 3, 34: 3, 33: 5, 31: 5, 23: 5, 99: 2, 89: 2, 88: 2, 42: 2, 36: 2, 25: 5, 24: 5, 45: 5, 22: 5, 21: 5, 27: 0, 26: 0, 14: 0, 75: 0, 74: 0, 13: 0, 100: 0, 12: 0, 8: 0, 47: 9, 46: 9, 15: 9, 7: 9, 94: 9, 6: 9, 3: 9, 44: 9, 43: 9, 4: 9, 95: 8, 61: 8, 87: 8, 86: 8, 60: 8, 59: 8, 17: 8, 70: 8, 69: 8, 18: 8, 19: 6, 16: 6, 11: 8, 10: 8, 51: 9, 50: 9, 30: 9, 32: 9, 29: 9, 28: 9, 9: 9, 5: 9, 2: 9, 1: 9, None: 7}\n",
      "Subtree roots  {8: 0, 37: 1, 36: 2, 34: 3, None: 7, 21: 5, 16: 6, 10: 8, 1: 9}\n",
      "Maximal number of dependecies 4\n"
     ]
    }
   ],
   "source": [
    "t3 = timeit.default_timer()\n",
    "Best_Fit_Clustering_No_Queue_1(my_mtg,p,0.4)\n",
    "t4 = timeit.default_timer()\n",
    "\n",
    "print(\"Clusters \",my_mtg.property('cluster'))\n",
    "print(\"Subtree roots \",my_mtg.property('sub_tree'))\n",
    "tree = number_of_dependencies(my_mtg)\n",
    "my_mtg.remove_property('sub_tree')\n",
    "#print(\"Clusters as a dictionary \",my_mtg.property('cluster'))\n",
    "print(\"Maximal number of dependecies\",tree)\n",
    "\n",
    "\n"
   ]
  },
  {
   "cell_type": "code",
   "execution_count": 20,
   "metadata": {},
   "outputs": [
    {
     "data": {
      "text/html": [
       "\n",
       "        <iframe\n",
       "            width=\"900px\"\n",
       "            height=\"800px\"\n",
       "            src=\"mtg.html\"\n",
       "            frameborder=\"0\"\n",
       "            allowfullscreen\n",
       "        ></iframe>\n",
       "        "
      ],
      "text/plain": [
       "<IPython.lib.display.IFrame at 0x7f674a3d4190>"
      ]
     },
     "execution_count": 20,
     "metadata": {},
     "output_type": "execute_result"
    }
   ],
   "source": [
    "plot_clusters_dict(my_mtg,nb_clusters=p)"
   ]
  }
 ],
 "metadata": {
  "kernelspec": {
   "display_name": "Python 3",
   "language": "python",
   "name": "python3"
  },
  "language_info": {
   "codemirror_mode": {
    "name": "ipython",
    "version": 3
   },
   "file_extension": ".py",
   "mimetype": "text/x-python",
   "name": "python",
   "nbconvert_exporter": "python",
   "pygments_lexer": "ipython3",
   "version": "3.7.6"
  }
 },
 "nbformat": 4,
 "nbformat_minor": 4
}
