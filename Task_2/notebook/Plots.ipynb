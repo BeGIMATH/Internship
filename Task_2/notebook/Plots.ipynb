{
 "cells": [
  {
   "cell_type": "code",
   "execution_count": 16,
   "metadata": {},
   "outputs": [],
   "source": [
    "from openalea.mtg.mtg import *\n",
    "from openalea.mtg.algo import ancestors\n",
    "from openalea.mtg.io import *\n",
    "from openalea.mtg.traversal import *\n",
    "from scipy.stats import poisson, binom\n",
    "import os\n",
    "import timeit\n",
    "import sys\n",
    "from oawidgets.mtg import *\n",
    "from oawidgets.plantgl import PlantGL\n",
    "from openalea.mtg.draw import *\n",
    "import sys\n",
    "\n",
    "sys.path.append(\"../../Task_2/src/\")\n",
    "\n",
    "from algo_bench import *\n",
    "\n",
    "from oawidgets.mtg import plot\n",
    "from oawidgets.plantgl import PlantGL\n",
    "\n"
   ]
  },
  {
   "cell_type": "code",
   "execution_count": 17,
   "metadata": {},
   "outputs": [],
   "source": [
    "my_mtg = MTG()#'../data/noylum2.mtg')\n",
    "dist = poisson(1., loc=1).rvs\n",
    "\n",
    "vid = my_mtg.add_component(my_mtg.root)\n",
    "\n",
    "random_tree(my_mtg,vid,nb_children=dist,nb_vertices=99)\n",
    "p = 10\n"
   ]
  },
  {
   "cell_type": "code",
   "execution_count": 18,
   "metadata": {},
   "outputs": [
    {
     "name": "stdout",
     "output_type": "stream",
     "text": [
      "Time:  0.0041399699985049665  seconds\n"
     ]
    }
   ],
   "source": [
    "t3 = timeit.default_timer()\n",
    "Best_Fit_Clustering_Queue(my_mtg,p,0.4)\n",
    "t4 = timeit.default_timer()\n",
    "print(\"Time: \",t4 - t3,\" seconds\")"
   ]
  },
  {
   "cell_type": "code",
   "execution_count": 19,
   "metadata": {},
   "outputs": [
    {
     "data": {
      "text/plain": [
       "<openalea.mtg.mtg.MTG at 0x7fbfed709e50>"
      ]
     },
     "execution_count": 19,
     "metadata": {},
     "output_type": "execute_result"
    }
   ],
   "source": [
    "my_mtg.insert_scale(my_mtg.max_scale(), lambda vid: my_mtg.property('sub_tree').get(vid,None) != None)\n",
    "    "
   ]
  },
  {
   "cell_type": "code",
   "execution_count": 22,
   "metadata": {},
   "outputs": [
    {
     "name": "stdout",
     "output_type": "stream",
     "text": [
      "Node at new scale  101 with children  [102, 103, 104, 105] node at old scale 1\n",
      "Node at new scale  102 with children  [] node at old scale 25\n",
      "Node at new scale  103 with children  [] node at old scale 28\n",
      "Node at new scale  104 with children  [] node at old scale 4\n",
      "Node at new scale  105 with children  [106, 108] node at old scale 6\n",
      "Node at new scale  106 with children  [107] node at old scale 12\n",
      "Node at new scale  107 with children  [] node at old scale 76\n",
      "Node at new scale  108 with children  [109, 110, 112] node at old scale 13\n",
      "Node at new scale  109 with children  [] node at old scale 21\n",
      "Node at new scale  110 with children  [111] node at old scale 30\n",
      "Node at new scale  111 with children  [] node at old scale 34\n",
      "Node at new scale  112 with children  [] node at old scale 69\n"
     ]
    }
   ],
   "source": [
    "root = my_mtg.component_roots_at_scale_iter(my_mtg.root,scale=my_mtg.max_scale()-1)\n",
    "max_depth = 0\n",
    "def Max_depth(node):\n",
    "    childs = my_mtg.children(node)\n",
    "    nodes = []\n",
    "    leafs = []\n",
    "    #Classify nodes either as leafs or as nodes\n",
    "    for i in childs:\n",
    "        if my_mtg.children(i) != None:\n",
    "            leafs.append(i)\n",
    "        else:\n",
    "            nodes.append(i)\n",
    "    #If the all\n",
    "    if len(nodes) == 0:\n",
    "        return 1\n",
    "    if len(nodes) == 1:\n",
    "        return Max_depth(nodes[0]) + 1\n",
    "    else:\n",
    "         return max(map(Max_depth,[nodes[i] for i in range(len(nodes))] )) + 1\n",
    "         \n",
    "a = list(root)\n",
    "#for vid in pre_order(my_mtg,a[0]):\n",
    "#    print(\"Vid\",vid)\n",
    "for vid in my_mtg.vertices(scale=my_mtg.max_scale()-1):\n",
    "    print(\"Node at new scale \",vid,\"with children \",my_mtg.children(vid),\"node at old scale\",my_mtg.component_roots(vid)[0])\n",
    "\n"
   ]
  },
  {
   "cell_type": "code",
   "execution_count": 14,
   "metadata": {
    "scrolled": true
   },
   "outputs": [
    {
     "data": {
      "text/html": [
       "\n",
       "        <iframe\n",
       "            width=\"900px\"\n",
       "            height=\"800px\"\n",
       "            src=\"mtg.html\"\n",
       "            frameborder=\"0\"\n",
       "            allowfullscreen\n",
       "        ></iframe>\n",
       "        "
      ],
      "text/plain": [
       "<IPython.lib.display.IFrame at 0x7fbfed706cd0>"
      ]
     },
     "execution_count": 14,
     "metadata": {},
     "output_type": "execute_result"
    }
   ],
   "source": [
    "\n",
    "plot_clusters_dependecy(my_mtg,nb_cluster=p)\n"
   ]
  },
  {
   "cell_type": "code",
   "execution_count": 5,
   "metadata": {},
   "outputs": [
    {
     "name": "stdout",
     "output_type": "stream",
     "text": [
      "Time:  0.01658686600421788  seconds\n"
     ]
    }
   ],
   "source": [
    "t3 = timeit.default_timer()\n",
    "Best_Fit_Clustering_Paper(my_mtg,p,0.4)\n",
    "t4 = timeit.default_timer()\n",
    "print(\"Time: \",t4 - t3,\" seconds\")\n"
   ]
  },
  {
   "cell_type": "code",
   "execution_count": 6,
   "metadata": {},
   "outputs": [
    {
     "data": {
      "text/html": [
       "\n",
       "        <iframe\n",
       "            width=\"900px\"\n",
       "            height=\"800px\"\n",
       "            src=\"mtg.html\"\n",
       "            frameborder=\"0\"\n",
       "            allowfullscreen\n",
       "        ></iframe>\n",
       "        "
      ],
      "text/plain": [
       "<IPython.lib.display.IFrame at 0x7f72c9899dd0>"
      ]
     },
     "execution_count": 6,
     "metadata": {},
     "output_type": "execute_result"
    }
   ],
   "source": [
    "\n",
    "plot_clusters_dependecy(my_mtg,nb_cluster=p)\n"
   ]
  },
  {
   "cell_type": "code",
   "execution_count": 7,
   "metadata": {},
   "outputs": [
    {
     "name": "stdout",
     "output_type": "stream",
     "text": [
      "Time:  0.01866046399663901  seconds\n"
     ]
    }
   ],
   "source": [
    "\n",
    "t3 = timeit.default_timer()\n",
    "First_Fit_Clustering_Paper(my_mtg,p)\n",
    "t4 = timeit.default_timer()\n",
    "print(\"Time: \",t4 - t3,\" seconds\")"
   ]
  },
  {
   "cell_type": "code",
   "execution_count": 8,
   "metadata": {},
   "outputs": [
    {
     "data": {
      "text/html": [
       "\n",
       "        <iframe\n",
       "            width=\"900px\"\n",
       "            height=\"800px\"\n",
       "            src=\"mtg.html\"\n",
       "            frameborder=\"0\"\n",
       "            allowfullscreen\n",
       "        ></iframe>\n",
       "        "
      ],
      "text/plain": [
       "<IPython.lib.display.IFrame at 0x7f73003a0f90>"
      ]
     },
     "execution_count": 8,
     "metadata": {},
     "output_type": "execute_result"
    }
   ],
   "source": [
    "plot_clusters_dependecy(my_mtg,nb_cluster=p)"
   ]
  },
  {
   "cell_type": "code",
   "execution_count": 9,
   "metadata": {},
   "outputs": [
    {
     "name": "stdout",
     "output_type": "stream",
     "text": [
      "Time:  0.003719344997080043  seconds\n"
     ]
    }
   ],
   "source": [
    "t3 = timeit.default_timer()\n",
    "Best_Fit_Clustering_Queue_1(my_mtg,p,0.4)\n",
    "t4 = timeit.default_timer()\n",
    "\n",
    "\n",
    "print(\"Time: \",t4 - t3,\" seconds\")"
   ]
  },
  {
   "cell_type": "code",
   "execution_count": 10,
   "metadata": {},
   "outputs": [
    {
     "data": {
      "text/html": [
       "\n",
       "        <iframe\n",
       "            width=\"900px\"\n",
       "            height=\"800px\"\n",
       "            src=\"mtg.html\"\n",
       "            frameborder=\"0\"\n",
       "            allowfullscreen\n",
       "        ></iframe>\n",
       "        "
      ],
      "text/plain": [
       "<IPython.lib.display.IFrame at 0x7f72c9925450>"
      ]
     },
     "execution_count": 10,
     "metadata": {},
     "output_type": "execute_result"
    }
   ],
   "source": [
    "plot_clusters_dependecy(my_mtg,nb_cluster=p)"
   ]
  },
  {
   "cell_type": "code",
   "execution_count": 11,
   "metadata": {},
   "outputs": [
    {
     "name": "stdout",
     "output_type": "stream",
     "text": [
      "Time:  0.008503238997946028  seconds\n"
     ]
    }
   ],
   "source": [
    "t3 = timeit.default_timer()\n",
    "Best_Fit_Clustering_No_Queue(my_mtg,p,0.4)\n",
    "t4 = timeit.default_timer()\n",
    "print(\"Time: \",t4 - t3,\" seconds\")"
   ]
  },
  {
   "cell_type": "code",
   "execution_count": 12,
   "metadata": {},
   "outputs": [
    {
     "data": {
      "text/html": [
       "\n",
       "        <iframe\n",
       "            width=\"900px\"\n",
       "            height=\"800px\"\n",
       "            src=\"mtg.html\"\n",
       "            frameborder=\"0\"\n",
       "            allowfullscreen\n",
       "        ></iframe>\n",
       "        "
      ],
      "text/plain": [
       "<IPython.lib.display.IFrame at 0x7f72c9929ed0>"
      ]
     },
     "execution_count": 12,
     "metadata": {},
     "output_type": "execute_result"
    }
   ],
   "source": [
    "plot_clusters_dependecy(my_mtg,nb_cluster=p)"
   ]
  },
  {
   "cell_type": "code",
   "execution_count": 13,
   "metadata": {},
   "outputs": [
    {
     "name": "stdout",
     "output_type": "stream",
     "text": [
      "Time:  0.006527490004373249  seconds\n"
     ]
    }
   ],
   "source": [
    "t3 = timeit.default_timer()\n",
    "Best_Fit_Clustering_No_Queue_1(my_mtg,p,0.4)\n",
    "t4 = timeit.default_timer()\n",
    "print(\"Time: \",t4 - t3,\" seconds\")"
   ]
  },
  {
   "cell_type": "code",
   "execution_count": 14,
   "metadata": {},
   "outputs": [
    {
     "data": {
      "text/html": [
       "\n",
       "        <iframe\n",
       "            width=\"900px\"\n",
       "            height=\"800px\"\n",
       "            src=\"mtg.html\"\n",
       "            frameborder=\"0\"\n",
       "            allowfullscreen\n",
       "        ></iframe>\n",
       "        "
      ],
      "text/plain": [
       "<IPython.lib.display.IFrame at 0x7f72c9929c90>"
      ]
     },
     "execution_count": 14,
     "metadata": {},
     "output_type": "execute_result"
    }
   ],
   "source": [
    "plot_clusters_dependecy(my_mtg,nb_cluster=p)"
   ]
  }
 ],
 "metadata": {
  "kernelspec": {
   "display_name": "Python 3",
   "language": "python",
   "name": "python3"
  },
  "language_info": {
   "codemirror_mode": {
    "name": "ipython",
    "version": 3
   },
   "file_extension": ".py",
   "mimetype": "text/x-python",
   "name": "python",
   "nbconvert_exporter": "python",
   "pygments_lexer": "ipython3",
   "version": "3.7.6"
  }
 },
 "nbformat": 4,
 "nbformat_minor": 4
}
