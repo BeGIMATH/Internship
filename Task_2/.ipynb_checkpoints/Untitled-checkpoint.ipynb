{
 "cells": [
  {
   "cell_type": "code",
   "execution_count": 2,
   "metadata": {},
   "outputs": [],
   "source": [
    "from openalea.mtg.mtg import *\n",
    "from openalea.mtg.algo import ancestors\n",
    "from openalea.mtg.io import *\n",
    "from openalea.mtg.traversal import *\n",
    "from scipy.stats import poisson, binom\n",
    "import os\n",
    "import timeit\n",
    "import sys\n",
    "from oawidgets.mtg import plot\n",
    "from oawidgets.plantgl import PlantGL\n",
    "sys.path.insert(0, '/Task_2/Queue.py/')\n",
    "\n",
    "from Queue import *\n",
    "\n"
   ]
  },
  {
   "cell_type": "code",
   "execution_count": 42,
   "metadata": {},
   "outputs": [
    {
     "data": {
      "text/plain": [
       "1"
      ]
     },
     "execution_count": 42,
     "metadata": {},
     "output_type": "execute_result"
    }
   ],
   "source": [
    "my_mtg = MTG()#\"/home/begatim/Desktop/mtg/share/data/boutdenoylum2.mtg\")\n",
    "dist = poisson(1., loc=1).rvs\n",
    "vid = my_mtg.add_component(my_mtg.root)\n",
    "random_tree(my_mtg,vid, nb_children=dist,nb_vertices=99)\n",
    "\n",
    "\n"
   ]
  },
  {
   "cell_type": "code",
   "execution_count": 59,
   "metadata": {},
   "outputs": [
    {
     "data": {
      "text/plain": [
       "<openalea.mtg.mtg.MTG at 0x7fd7b6bc4b90>"
      ]
     },
     "execution_count": 59,
     "metadata": {},
     "output_type": "execute_result"
    }
   ],
   "source": [
    "my_mtg = MTG()\n",
    "my_mtg1 = MTG()\n",
    "my_mtg2 = MTG()\n",
    "dist = poisson(1., loc=1).rvs\n",
    "vid = my_mtg.add_component(my_mtg.root)\n",
    "\n",
    "vid1 = my_mtg1.add_component(my_mtg1.root)\n",
    "\n",
    "vid3 = my_mtg2.add_component(my_mtg2.root)\n",
    "\n",
    "simple_tree(my_mtg,vid, nb_children=3,nb_vertices=99)\n",
    "#random_tree(my_mtg1,my_mtg1.root, nb_children=dist,nb_vertices=99)\n",
    "#random_tree(my_mtg2,my_mtg2.root, nb_children=dist,nb_vertices=99)\n",
    "\n"
   ]
  },
  {
   "cell_type": "code",
   "execution_count": 58,
   "metadata": {},
   "outputs": [
    {
     "data": {
      "text/html": [
       "\n",
       "        <iframe\n",
       "            width=\"900px\"\n",
       "            height=\"800px\"\n",
       "            src=\"mtg.html\"\n",
       "            frameborder=\"0\"\n",
       "            allowfullscreen\n",
       "        ></iframe>\n",
       "        "
      ],
      "text/plain": [
       "<IPython.lib.display.IFrame at 0x7fd7b6bc7d50>"
      ]
     },
     "execution_count": 58,
     "metadata": {},
     "output_type": "execute_result"
    }
   ],
   "source": [
    "plot(my_mtg)"
   ]
  },
  {
   "cell_type": "code",
   "execution_count": 45,
   "metadata": {},
   "outputs": [
    {
     "name": "stdout",
     "output_type": "stream",
     "text": [
      "Time for clustering with the first algorithm using the queue 0.00406376295723021\n",
      "Time for clustering with the second algorithm  0.002912395866587758\n"
     ]
    }
   ],
   "source": [
    "t5 = timeit.default_timer()\n",
    "clusters_2 = SFC_FF(my_mtg,10)\n",
    "t6 = timeit.default_timer()\n",
    "\n",
    "t3 = timeit.default_timer()\n",
    "clusters_1 = SFC_BF(my_mtg1,10,0)\n",
    "t4 = timeit.default_timer()\n",
    "\n",
    "\n",
    "#print(\"Time for clustering with the first algorithm based on paper\",t2-t1)\n",
    "print(\"Time for clustering with the first algorithm using the queue\",t4-t3)\n",
    "print(\"Time for clustering with the second algorithm \",t6-t5)\n",
    "\n"
   ]
  },
  {
   "cell_type": "code",
   "execution_count": 47,
   "metadata": {},
   "outputs": [
    {
     "data": {
      "text/html": [
       "\n",
       "        <iframe\n",
       "            width=\"900px\"\n",
       "            height=\"800px\"\n",
       "            src=\"mtg.html\"\n",
       "            frameborder=\"0\"\n",
       "            allowfullscreen\n",
       "        ></iframe>\n",
       "        "
      ],
      "text/plain": [
       "<IPython.lib.display.IFrame at 0x7fd7b72b3190>"
      ]
     },
     "execution_count": 47,
     "metadata": {},
     "output_type": "execute_result"
    }
   ],
   "source": [
    "plot(my_mtg)\n",
    "plot(my_mtg1)"
   ]
  },
  {
   "cell_type": "code",
   "execution_count": null,
   "metadata": {},
   "outputs": [],
   "source": []
  }
 ],
 "metadata": {
  "kernelspec": {
   "display_name": "Python 3",
   "language": "python",
   "name": "python3"
  },
  "language_info": {
   "codemirror_mode": {
    "name": "ipython",
    "version": 3
   },
   "file_extension": ".py",
   "mimetype": "text/x-python",
   "name": "python",
   "nbconvert_exporter": "python",
   "pygments_lexer": "ipython3",
   "version": "3.7.6"
  }
 },
 "nbformat": 4,
 "nbformat_minor": 4
}
