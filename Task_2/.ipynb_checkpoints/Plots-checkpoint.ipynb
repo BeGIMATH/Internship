{
 "cells": [
  {
   "cell_type": "code",
   "execution_count": 1,
   "metadata": {},
   "outputs": [],
   "source": [
    "from openalea.mtg.mtg import *\n",
    "from openalea.mtg.algo import ancestors\n",
    "from openalea.mtg.io import *\n",
    "from openalea.mtg.traversal import *\n",
    "from scipy.stats import poisson, binom\n",
    "import os\n",
    "import timeit\n",
    "import sys\n",
    "from oawidgets.mtg import plot\n",
    "from oawidgets.plantgl import PlantGL\n",
    "from openalea.mtg.draw import *\n",
    "sys.path.insert(0, '/Task_2/Queue.py/')\n",
    "\n",
    "from Queue import *\n",
    "\n",
    "\n",
    "from oawidgets.mtg import plot\n",
    "from oawidgets.plantgl import PlantGL\n",
    "\n"
   ]
  },
  {
   "cell_type": "code",
   "execution_count": 22,
   "metadata": {},
   "outputs": [
    {
     "name": "stdout",
     "output_type": "stream",
     "text": [
      "-----------------------------\n",
      "Cluster  0\n",
      "Found a perfect subtree of size 10.0\n",
      "Found a subtree of size 10.0\n",
      "-----------------------------\n",
      "Cluster  1\n",
      "Found a perfect subtree of size 10.0\n",
      "Found a subtree of size 10.0\n",
      "-----------------------------\n",
      "Cluster  2\n",
      "Found a perfect subtree of size 10.0\n",
      "Found a subtree of size 10.0\n",
      "-----------------------------\n",
      "Cluster  3\n",
      "Found a subtree of size 9.0\n",
      "-----------------------------\n",
      "Cluster  4\n",
      "Found a perfect subtree of size 11.0\n",
      "Found a subtree of size 11.0\n",
      "-----------------------------\n",
      "Cluster  5\n",
      "Found a subtree of size 8.0\n",
      "-----------------------------\n",
      "Cluster  6\n",
      "Found a perfect subtree of size 12.0\n",
      "Found a subtree of size 12.0\n",
      "-----------------------------\n",
      "Cluster  7\n",
      "Found a subtree of size 7.0\n",
      "-----------------------------\n",
      "Cluster  8\n",
      "Found a subtree of size 11.0\n",
      "-----------------------------\n",
      "Cluster  9\n",
      "Time for clustering with the first algorithm using the queue 0.013398497132584453\n",
      "Time for clustering with the second algorithm using queue removing the subtree 0.0010954788886010647\n",
      "Cluster  0 [80, 81, 35, 18, 54, 55, 56, 44, 19, 13]\n",
      "Cluster  1 [96, 12, 10, 42, 43, 32, 31, 11, 9, 8]\n",
      "Cluster  2 [25, 68, 69, 70, 33, 82, 34, 26, 6, 2]\n",
      "Cluster  3 [65, 66, 90, 91, 92, 93, 83, 67, 62]\n",
      "Cluster  4 [74, 97, 98, 99, 100, 75, 27, 28, 39, 29, 24]\n",
      "Cluster  5 [84, 85, 86, 87, 63, 95, 64, 45]\n",
      "Cluster  6 [76, 77, 78, 79, 59, 60, 61, 21, 22, 23, 20, 7]\n",
      "Cluster  7 [53, 50, 57, 58, 51, 52, 46]\n",
      "Cluster  8 [94, 40, 47, 48, 49, 41, 37, 88, 89, 38, 17]\n",
      "Cluster  9 [4, 71, 72, 73, 14, 36, 15, 30, 16, 5, 3, 1]\n"
     ]
    }
   ],
   "source": [
    "my_mtg = MTG()\n",
    "dist = poisson(1., loc=1).rvs\n",
    "\n",
    "vid = my_mtg.add_component(my_mtg.root)\n",
    "\n",
    "random_tree(my_mtg,vid,nb_children=dist,nb_vertices=99)\n",
    "\n",
    "my_copy = my_mtg.copy()\n",
    "#random_tree(my_mtg,vid, nb_children=dist,nb_vertices=99)\n",
    "\n",
    "t5 = timeit.default_timer()\n",
    "clusters_1 = SFC_FF(my_mtg,vid,10)\n",
    "t6 = timeit.default_timer()\n",
    "\n",
    "t3 = timeit.default_timer()\n",
    "clusters_2 = hybrid_1(my_mtg,vid,10,30)\n",
    "t4 = timeit.default_timer()\n",
    "\n",
    "#print(\"Time for clustering with the first algorithm based on paper\",t2-t1)\n",
    "print(\"Time for clustering with the first algorithm using the queue\",t4-t3)\n",
    "print(\"Time for clustering with the second algorithm using queue removing the subtree\",t6-t5)\n",
    "for i in range(10):\n",
    "    print(\"Cluster \",i,clusters_2[i])\n"
   ]
  },
  {
   "cell_type": "code",
   "execution_count": 23,
   "metadata": {},
   "outputs": [
    {
     "data": {
      "text/html": [
       "\n",
       "        <iframe\n",
       "            width=\"900px\"\n",
       "            height=\"800px\"\n",
       "            src=\"mtg.html\"\n",
       "            frameborder=\"0\"\n",
       "            allowfullscreen\n",
       "        ></iframe>\n",
       "        "
      ],
      "text/plain": [
       "<IPython.lib.display.IFrame at 0x7f4bf6d79750>"
      ]
     },
     "execution_count": 23,
     "metadata": {},
     "output_type": "execute_result"
    }
   ],
   "source": [
    "plot(my_copy,selection=clusters_2[0])\n"
   ]
  },
  {
   "cell_type": "code",
   "execution_count": 24,
   "metadata": {},
   "outputs": [
    {
     "data": {
      "text/plain": [
       "[80, 81, 35, 18, 54, 55, 56, 44, 19, 13]"
      ]
     },
     "execution_count": 24,
     "metadata": {},
     "output_type": "execute_result"
    }
   ],
   "source": [
    "\n",
    "my_copy.remove_tree(clusters_2[0][len(clusters_2)-1])"
   ]
  },
  {
   "cell_type": "code",
   "execution_count": 25,
   "metadata": {},
   "outputs": [
    {
     "data": {
      "text/html": [
       "\n",
       "        <iframe\n",
       "            width=\"900px\"\n",
       "            height=\"800px\"\n",
       "            src=\"mtg.html\"\n",
       "            frameborder=\"0\"\n",
       "            allowfullscreen\n",
       "        ></iframe>\n",
       "        "
      ],
      "text/plain": [
       "<IPython.lib.display.IFrame at 0x7f4c277e4990>"
      ]
     },
     "execution_count": 25,
     "metadata": {},
     "output_type": "execute_result"
    }
   ],
   "source": [
    "plot(my_copy,selection=clusters_2[1])\n"
   ]
  },
  {
   "cell_type": "code",
   "execution_count": 26,
   "metadata": {},
   "outputs": [
    {
     "data": {
      "text/plain": [
       "[96, 12, 10, 42, 43, 32, 31, 11, 9, 8]"
      ]
     },
     "execution_count": 26,
     "metadata": {},
     "output_type": "execute_result"
    }
   ],
   "source": [
    "my_copy.remove_tree(8)"
   ]
  },
  {
   "cell_type": "code",
   "execution_count": 27,
   "metadata": {},
   "outputs": [
    {
     "data": {
      "text/html": [
       "\n",
       "        <iframe\n",
       "            width=\"900px\"\n",
       "            height=\"800px\"\n",
       "            src=\"mtg.html\"\n",
       "            frameborder=\"0\"\n",
       "            allowfullscreen\n",
       "        ></iframe>\n",
       "        "
      ],
      "text/plain": [
       "<IPython.lib.display.IFrame at 0x7f4bf6d8dbd0>"
      ]
     },
     "execution_count": 27,
     "metadata": {},
     "output_type": "execute_result"
    }
   ],
   "source": [
    "plot(my_copy,selection=clusters_2[2])"
   ]
  },
  {
   "cell_type": "code",
   "execution_count": 28,
   "metadata": {},
   "outputs": [
    {
     "data": {
      "text/plain": [
       "[25, 68, 69, 70, 33, 82, 34, 26, 6, 2]"
      ]
     },
     "execution_count": 28,
     "metadata": {},
     "output_type": "execute_result"
    }
   ],
   "source": [
    "my_copy.remove_tree(2)"
   ]
  },
  {
   "cell_type": "code",
   "execution_count": 29,
   "metadata": {},
   "outputs": [
    {
     "data": {
      "text/html": [
       "\n",
       "        <iframe\n",
       "            width=\"900px\"\n",
       "            height=\"800px\"\n",
       "            src=\"mtg.html\"\n",
       "            frameborder=\"0\"\n",
       "            allowfullscreen\n",
       "        ></iframe>\n",
       "        "
      ],
      "text/plain": [
       "<IPython.lib.display.IFrame at 0x7f4bf6d8b650>"
      ]
     },
     "execution_count": 29,
     "metadata": {},
     "output_type": "execute_result"
    }
   ],
   "source": [
    "plot(my_copy,selection=clusters_2[3])\n",
    "my_copy.remove_tree(2)"
   ]
  },
  {
   "cell_type": "code",
   "execution_count": 30,
   "metadata": {},
   "outputs": [
    {
     "data": {
      "text/plain": [
       "[65, 66, 90, 91, 92, 93, 83, 67, 62]"
      ]
     },
     "execution_count": 30,
     "metadata": {},
     "output_type": "execute_result"
    }
   ],
   "source": [
    "#plot(my_copy,selection=clusters_2[3])\n",
    "my_copy.remove_tree(62)"
   ]
  },
  {
   "cell_type": "code",
   "execution_count": 31,
   "metadata": {},
   "outputs": [
    {
     "data": {
      "text/html": [
       "\n",
       "        <iframe\n",
       "            width=\"900px\"\n",
       "            height=\"800px\"\n",
       "            src=\"mtg.html\"\n",
       "            frameborder=\"0\"\n",
       "            allowfullscreen\n",
       "        ></iframe>\n",
       "        "
      ],
      "text/plain": [
       "<IPython.lib.display.IFrame at 0x7f4bf6db3c50>"
      ]
     },
     "execution_count": 31,
     "metadata": {},
     "output_type": "execute_result"
    }
   ],
   "source": [
    "plot(my_copy,selection=clusters_2[4])\n",
    "#my_copy.remove_tree(62)"
   ]
  },
  {
   "cell_type": "code",
   "execution_count": 33,
   "metadata": {},
   "outputs": [
    {
     "data": {
      "text/plain": [
       "[74, 97, 98, 99, 100, 75, 27, 28, 39, 29, 24]"
      ]
     },
     "execution_count": 33,
     "metadata": {},
     "output_type": "execute_result"
    }
   ],
   "source": [
    "#\"plot(my_copy,selection=clusters_2[3])\n",
    "my_copy.remove_tree(24)"
   ]
  },
  {
   "cell_type": "code",
   "execution_count": 35,
   "metadata": {},
   "outputs": [
    {
     "data": {
      "text/html": [
       "\n",
       "        <iframe\n",
       "            width=\"900px\"\n",
       "            height=\"800px\"\n",
       "            src=\"mtg.html\"\n",
       "            frameborder=\"0\"\n",
       "            allowfullscreen\n",
       "        ></iframe>\n",
       "        "
      ],
      "text/plain": [
       "<IPython.lib.display.IFrame at 0x7f4bf6d69190>"
      ]
     },
     "execution_count": 35,
     "metadata": {},
     "output_type": "execute_result"
    }
   ],
   "source": [
    "plot(my_copy,selection=clusters_2[5])\n",
    "#my_copy.remove_tree(62)"
   ]
  },
  {
   "cell_type": "code",
   "execution_count": 36,
   "metadata": {},
   "outputs": [
    {
     "data": {
      "text/plain": [
       "[84, 85, 86, 87, 63, 95, 64, 45]"
      ]
     },
     "execution_count": 36,
     "metadata": {},
     "output_type": "execute_result"
    }
   ],
   "source": [
    "#plot(my_copy,selection=clusters_2[3])\n",
    "my_copy.remove_tree(45)"
   ]
  },
  {
   "cell_type": "code",
   "execution_count": 37,
   "metadata": {},
   "outputs": [
    {
     "data": {
      "text/html": [
       "\n",
       "        <iframe\n",
       "            width=\"900px\"\n",
       "            height=\"800px\"\n",
       "            src=\"mtg.html\"\n",
       "            frameborder=\"0\"\n",
       "            allowfullscreen\n",
       "        ></iframe>\n",
       "        "
      ],
      "text/plain": [
       "<IPython.lib.display.IFrame at 0x7f4bf6af9910>"
      ]
     },
     "execution_count": 37,
     "metadata": {},
     "output_type": "execute_result"
    }
   ],
   "source": [
    "plot(my_copy,selection=clusters_2[6])\n",
    "#my_copy.remove_tree(62)"
   ]
  },
  {
   "cell_type": "code",
   "execution_count": 38,
   "metadata": {},
   "outputs": [
    {
     "data": {
      "text/plain": [
       "[76, 77, 78, 79, 59, 60, 61, 21, 22, 23, 20, 7]"
      ]
     },
     "execution_count": 38,
     "metadata": {},
     "output_type": "execute_result"
    }
   ],
   "source": [
    "#plot(my_copy,selection=clusters_2[3])\n",
    "my_copy.remove_tree(7)"
   ]
  },
  {
   "cell_type": "code",
   "execution_count": 39,
   "metadata": {},
   "outputs": [
    {
     "data": {
      "text/html": [
       "\n",
       "        <iframe\n",
       "            width=\"900px\"\n",
       "            height=\"800px\"\n",
       "            src=\"mtg.html\"\n",
       "            frameborder=\"0\"\n",
       "            allowfullscreen\n",
       "        ></iframe>\n",
       "        "
      ],
      "text/plain": [
       "<IPython.lib.display.IFrame at 0x7f4bf6d69bd0>"
      ]
     },
     "execution_count": 39,
     "metadata": {},
     "output_type": "execute_result"
    }
   ],
   "source": [
    "plot(my_copy,selection=clusters_2[7])\n",
    "#my_copy.remove_tree(62)"
   ]
  },
  {
   "cell_type": "code",
   "execution_count": 41,
   "metadata": {},
   "outputs": [
    {
     "data": {
      "text/plain": [
       "[53, 50, 57, 58, 51, 52, 46]"
      ]
     },
     "execution_count": 41,
     "metadata": {},
     "output_type": "execute_result"
    }
   ],
   "source": [
    "#plot(my_copy,selection=clusters_2[8])\n",
    "my_copy.remove_tree(46)"
   ]
  },
  {
   "cell_type": "code",
   "execution_count": 42,
   "metadata": {},
   "outputs": [
    {
     "data": {
      "text/html": [
       "\n",
       "        <iframe\n",
       "            width=\"900px\"\n",
       "            height=\"800px\"\n",
       "            src=\"mtg.html\"\n",
       "            frameborder=\"0\"\n",
       "            allowfullscreen\n",
       "        ></iframe>\n",
       "        "
      ],
      "text/plain": [
       "<IPython.lib.display.IFrame at 0x7f4bf6d8d050>"
      ]
     },
     "execution_count": 42,
     "metadata": {},
     "output_type": "execute_result"
    }
   ],
   "source": [
    "plot(my_copy,selection=clusters_2[8])\n",
    "#my_copy.remove_tree(62)"
   ]
  },
  {
   "cell_type": "code",
   "execution_count": 43,
   "metadata": {},
   "outputs": [
    {
     "data": {
      "text/plain": [
       "[94, 40, 47, 48, 49, 41, 37, 88, 89, 38, 17]"
      ]
     },
     "execution_count": 43,
     "metadata": {},
     "output_type": "execute_result"
    }
   ],
   "source": [
    "#plot(my_copy,selection=clusters_2[3])\n",
    "my_copy.remove_tree(17)"
   ]
  },
  {
   "cell_type": "code",
   "execution_count": 44,
   "metadata": {},
   "outputs": [
    {
     "data": {
      "text/html": [
       "\n",
       "        <iframe\n",
       "            width=\"900px\"\n",
       "            height=\"800px\"\n",
       "            src=\"mtg.html\"\n",
       "            frameborder=\"0\"\n",
       "            allowfullscreen\n",
       "        ></iframe>\n",
       "        "
      ],
      "text/plain": [
       "<IPython.lib.display.IFrame at 0x7f4bf6d8b7d0>"
      ]
     },
     "execution_count": 44,
     "metadata": {},
     "output_type": "execute_result"
    }
   ],
   "source": [
    "plot(my_copy,selection=clusters_2[9])\n",
    "#my_copy.remove_tree(62)"
   ]
  },
  {
   "cell_type": "code",
   "execution_count": null,
   "metadata": {},
   "outputs": [],
   "source": []
  }
 ],
 "metadata": {
  "kernelspec": {
   "display_name": "Python 3",
   "language": "python",
   "name": "python3"
  },
  "language_info": {
   "codemirror_mode": {
    "name": "ipython",
    "version": 3
   },
   "file_extension": ".py",
   "mimetype": "text/x-python",
   "name": "python",
   "nbconvert_exporter": "python",
   "pygments_lexer": "ipython3",
   "version": "3.7.6"
  }
 },
 "nbformat": 4,
 "nbformat_minor": 4
}
