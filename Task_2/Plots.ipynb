{
 "cells": [
  {
   "cell_type": "code",
   "execution_count": 1,
   "metadata": {},
   "outputs": [],
   "source": [
    "from openalea.mtg.mtg import *\n",
    "from openalea.mtg.algo import ancestors\n",
    "from openalea.mtg.io import *\n",
    "from openalea.mtg.traversal import *\n",
    "from scipy.stats import poisson, binom\n",
    "import os\n",
    "import timeit\n",
    "import sys\n",
    "from oawidgets.mtg import *\n",
    "from oawidgets.plantgl import PlantGL\n",
    "from openalea.mtg.draw import *\n",
    "sys.path.insert(0, '/Task_2/Queue.py/')\n",
    "\n",
    "from Queue import *\n",
    "\n",
    "\n",
    "\n",
    "from oawidgets.mtg import plot\n",
    "from oawidgets.plantgl import PlantGL\n"
   ]
  },
  {
   "cell_type": "code",
   "execution_count": null,
   "metadata": {},
   "outputs": [],
   "source": [
    "\n",
    "\n",
    "\n",
    "my_mtg = MTG()\n",
    "dist = poisson(1., loc=1).rvs\n",
    "\n",
    "vid = my_mtg.add_component(my_mtg.root)\n",
    "\n",
    "random_tree(my_mtg,vid,nb_children=dist,nb_vertices=9999999)\n",
    "\n",
    "\n",
    "\n",
    "my_copy = my_mtg.copy()\n",
    "#random_tree(my_mtg,vid, nb_children=dist,nb_vertices=99)\n",
    "\n",
    "\"\"\"\n",
    "t5 = timeit.default_timer()\n",
    "clusters_1 = SFC_FF(my_mtg,vid,10)\n",
    "t6 = timeit.default_timer()\n",
    "\"\"\"\n",
    "p = 32\n",
    "t3 = timeit.default_timer()\n",
    "clusters = SFC_BF_1(my_mtg,vid,p,0.4)\n",
    "\n",
    "t4 = timeit.default_timer()\n",
    "\n",
    "#print(\"Time for clustering with the first algorithm based on paper\",t2-t1)\n",
    "print(\"Time for clustering with the first algorithm using the queue\",t4-t3)\n",
    "#print(\"Time for clustering with the second algorithm using queue removing the subtree\",t6-t5)\n",
    "\n",
    "\n",
    "for i in range(p):\n",
    "    print(\"------------------------\")\n",
    "    print(\"Cluster\",i)\n",
    "    print(len(clusters[i]))\n",
    "\n"
   ]
  },
  {
   "cell_type": "code",
   "execution_count": null,
   "metadata": {},
   "outputs": [],
   "source": [
    "\n",
    "#plot_clusters(my_copy,cluster=clusters)"
   ]
  }
 ],
 "metadata": {
  "kernelspec": {
   "display_name": "Python 3",
   "language": "python",
   "name": "python3"
  },
  "language_info": {
   "codemirror_mode": {
    "name": "ipython",
    "version": 3
   },
   "file_extension": ".py",
   "mimetype": "text/x-python",
   "name": "python",
   "nbconvert_exporter": "python",
   "pygments_lexer": "ipython3",
   "version": "3.7.6"
  }
 },
 "nbformat": 4,
 "nbformat_minor": 4
}
