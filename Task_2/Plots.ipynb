{
 "cells": [
  {
   "cell_type": "code",
   "execution_count": 1,
   "metadata": {},
   "outputs": [],
   "source": [
    "from openalea.mtg.mtg import *\n",
    "from openalea.mtg.algo import ancestors\n",
    "from openalea.mtg.io import *\n",
    "from openalea.mtg.traversal import *\n",
    "from scipy.stats import poisson, binom\n",
    "import os\n",
    "import timeit\n",
    "import sys\n",
    "from oawidgets.mtg import *\n",
    "from oawidgets.plantgl import PlantGL\n",
    "from openalea.mtg.draw import *\n",
    "sys.path.insert(0, '/Task_2/Queue.py/')\n",
    "\n",
    "from Queue import *\n",
    "\n",
    "\n",
    "\n",
    "from oawidgets.mtg import plot\n",
    "from oawidgets.plantgl import PlantGL\n"
   ]
  },
  {
   "cell_type": "code",
   "execution_count": 2,
   "metadata": {},
   "outputs": [
    {
     "name": "stdout",
     "output_type": "stream",
     "text": [
      "Time for clustering with the first algorithm using the queue 0.001578133087605238\n",
      "------------------------\n",
      "Cluster 0 with length  11\n",
      "------------------------\n",
      "Cluster 1 with length  9\n",
      "------------------------\n",
      "Cluster 2 with length  14\n",
      "------------------------\n",
      "Cluster 3 with length  9\n",
      "------------------------\n",
      "Cluster 4 with length  9\n",
      "------------------------\n",
      "Cluster 5 with length  9\n",
      "------------------------\n",
      "Cluster 6 with length  7\n",
      "------------------------\n",
      "Cluster 7 with length  9\n",
      "------------------------\n",
      "Cluster 8 with length  12\n",
      "------------------------\n",
      "Cluster 9 with length  11\n"
     ]
    }
   ],
   "source": [
    "\n",
    "\n",
    "\n",
    "my_mtg = MTG()#'/home/begatim/Desktop/mtg/share/data/noylum2.mtg')\n",
    "dist = poisson(1., loc=1).rvs\n",
    "\n",
    "vid = my_mtg.add_component(my_mtg.root)\n",
    "\n",
    "random_tree(my_mtg,vid,nb_children=dist,nb_vertices=99)\n",
    "\n",
    "\n",
    "\n",
    "my_copy = my_mtg.copy()\n",
    "\n",
    "\"\"\"\n",
    "t5 = timeit.default_timer()\n",
    "clusters_1 = SFC_FF(my_mtg,vid,10)\n",
    "t6 = timeit.default_timer()\n",
    "\"\"\"\n",
    "p = 10\n",
    "t3 = timeit.default_timer()\n",
    "clusters = SFC_BF_MTG(my_mtg,p,0.4)\n",
    "\n",
    "t4 = timeit.default_timer()\n",
    "\n",
    "#print(\"Time for clustering with the first algorithm based on paper\",t2-t1)\n",
    "print(\"Time for clustering with the first algorithm using the queue\",t4-t3)\n",
    "#print(\"Time for clustering with the second algorithm using queue removing the subtree\",t6-t5)\n",
    "\n",
    "\n",
    "for i in range(p):\n",
    "    print(\"------------------------\")\n",
    "    print(\"Cluster\",i,\"with length \",len(clusters[i]))\n",
    "    #print(\"And nodes \",clusters[i])\n",
    "\n",
    "\n"
   ]
  },
  {
   "cell_type": "code",
   "execution_count": 3,
   "metadata": {},
   "outputs": [
    {
     "data": {
      "text/html": [
       "\n",
       "        <iframe\n",
       "            width=\"900px\"\n",
       "            height=\"800px\"\n",
       "            src=\"mtg.html\"\n",
       "            frameborder=\"0\"\n",
       "            allowfullscreen\n",
       "        ></iframe>\n",
       "        "
      ],
      "text/plain": [
       "<IPython.lib.display.IFrame at 0x7f75d0e66150>"
      ]
     },
     "execution_count": 3,
     "metadata": {},
     "output_type": "execute_result"
    }
   ],
   "source": [
    "plot_clusters(my_copy,cluster=clusters)"
   ]
  },
  {
   "cell_type": "code",
   "execution_count": 4,
   "metadata": {},
   "outputs": [
    {
     "name": "stdout",
     "output_type": "stream",
     "text": [
      "Time for clustering with the first algorithm using the queue 0.003141911933198571\n",
      "------------------------\n",
      "Cluster 0 with length  15\n",
      "And nodes  [91, 92, 46, 47, 50, 88, 100, 89, 90, 74, 70, 51, 48, 29, 10]\n",
      "------------------------\n",
      "Cluster 1 with length  9\n",
      "And nodes  [93, 75, 76, 11, 12, 49, 13, 14, 6]\n",
      "------------------------\n",
      "Cluster 2 with length  9\n",
      "And nodes  [4, 42, 43, 16, 7, 69, 8, 5, 3]\n",
      "------------------------\n",
      "Cluster 3 with length  12\n",
      "And nodes  [27, 28, 20, 34, 44, 45, 35, 21, 66, 22, 19, 17]\n",
      "------------------------\n",
      "Cluster 4 with length  9\n",
      "And nodes  [52, 81, 82, 83, 84, 53, 54, 55, 31]\n",
      "------------------------\n",
      "Cluster 5 with length  15\n",
      "And nodes  [63, 64, 80, 65, 56, 57, 32, 94, 95, 71, 72, 73, 33, 30, 25]\n",
      "------------------------\n",
      "Cluster 6 with length  7\n",
      "And nodes  [58, 96, 59, 61, 62, 60, 26]\n",
      "------------------------\n",
      "Cluster 7 with length  7\n",
      "And nodes  [97, 98, 99, 85, 86, 87, 39]\n",
      "------------------------\n",
      "Cluster 8 with length  15\n",
      "And nodes  [36, 77, 78, 79, 41, 38, 67, 68, 40, 37, 23, 24, 18, 15, 9]\n",
      "------------------------\n",
      "Cluster 9 with length  2\n",
      "And nodes  [2, 1]\n"
     ]
    }
   ],
   "source": [
    "\n",
    "\n",
    "\n",
    "my_mtg = my_copy.copy()\n",
    "\n",
    "\n",
    "my_copy_1 = my_mtg.copy()\n",
    "#random_tree(my_mtg,vid, nb_children=dist,nb_vertices=99)\n",
    "\n",
    "\"\"\"\n",
    "t5 = timeit.default_timer()\n",
    "clusters_1 = SFC_FF(my_mtg,vid,10)\n",
    "t6 = timeit.default_timer()\n",
    "\"\"\"\n",
    "p = 10\n",
    "t3 = timeit.default_timer()\n",
    "clusters_1 = SFC_BF_MTG_1(my_mtg,p,0.5)\n",
    "\n",
    "t4 = timeit.default_timer()\n",
    "\n",
    "#print(\"Time for clustering with the first algorithm based on paper\",t2-t1)\n",
    "print(\"Time for clustering with the first algorithm using the queue\",t4-t3)\n",
    "#print(\"Time for clustering with the second algorithm using queue removing the subtree\",t6-t5)\n",
    "\n",
    "\n",
    "for i in range(p):\n",
    "    print(\"------------------------\")\n",
    "    print(\"Cluster\",i,\"with length \",len(clusters_1[i]))\n",
    "    print(\"And nodes \",clusters_1[i])\n",
    "\n"
   ]
  },
  {
   "cell_type": "code",
   "execution_count": 6,
   "metadata": {},
   "outputs": [
    {
     "data": {
      "text/html": [
       "\n",
       "        <iframe\n",
       "            width=\"900px\"\n",
       "            height=\"800px\"\n",
       "            src=\"mtg.html\"\n",
       "            frameborder=\"0\"\n",
       "            allowfullscreen\n",
       "        ></iframe>\n",
       "        "
      ],
      "text/plain": [
       "<IPython.lib.display.IFrame at 0x7f75d0e66850>"
      ]
     },
     "execution_count": 6,
     "metadata": {},
     "output_type": "execute_result"
    }
   ],
   "source": [
    "plot_clusters(my_copy_1,cluster=clusters_1)"
   ]
  }
 ],
 "metadata": {
  "kernelspec": {
   "display_name": "Python 3",
   "language": "python",
   "name": "python3"
  },
  "language_info": {
   "codemirror_mode": {
    "name": "ipython",
    "version": 3
   },
   "file_extension": ".py",
   "mimetype": "text/x-python",
   "name": "python",
   "nbconvert_exporter": "python",
   "pygments_lexer": "ipython3",
   "version": "3.7.6"
  }
 },
 "nbformat": 4,
 "nbformat_minor": 4
}
